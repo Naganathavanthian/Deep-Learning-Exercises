{
 "cells": [
  {
   "cell_type": "code",
   "execution_count": 1,
   "metadata": {},
   "outputs": [],
   "source": [
    "# importing nltk library\n",
    "\n",
    "import nltk"
   ]
  },
  {
   "cell_type": "code",
   "execution_count": 2,
   "metadata": {},
   "outputs": [],
   "source": [
    "from nltk import *\n"
   ]
  },
  {
   "cell_type": "code",
   "execution_count": 7,
   "metadata": {},
   "outputs": [
    {
     "name": "stdout",
     "output_type": "stream",
     "text": [
      "NLTK Downloader\n",
      "---------------------------------------------------------------------------\n",
      "    d) Download   l) List    u) Update   c) Config   h) Help   q) Quit\n",
      "---------------------------------------------------------------------------\n",
      "Downloader> d\n",
      "\n",
      "Download which package (l=list; x=cancel)?\n",
      "  Identifier> l\n",
      "Packages:\n",
      "  [ ] alpino.............. Alpino Dutch Treebank\n",
      "  [ ] averaged_perceptron_tagger_ru Averaged Perceptron Tagger (Russian)\n",
      "  [ ] basque_grammars..... Grammars for Basque\n",
      "  [ ] biocreative_ppi..... BioCreAtIvE (Critical Assessment of Information\n",
      "                           Extraction Systems in Biology)\n",
      "  [ ] bllip_wsj_no_aux.... BLLIP Parser: WSJ Model\n",
      "  [ ] brown_tei........... Brown Corpus (TEI XML Version)\n",
      "  [ ] cess_cat............ CESS-CAT Treebank\n",
      "  [ ] cess_esp............ CESS-ESP Treebank\n",
      "  [ ] comparative_sentences Comparative Sentence Dataset\n",
      "  [ ] comtrans............ ComTrans Corpus Sample\n",
      "  [ ] conll2007........... Dependency Treebanks from CoNLL 2007 (Catalan\n",
      "                           and Basque Subset)\n",
      "  [ ] crubadan............ Crubadan Corpus\n",
      "  [ ] dolch............... Dolch Word List\n",
      "  [ ] europarl_raw........ Sample European Parliament Proceedings Parallel\n",
      "                           Corpus\n",
      "  [ ] floresta............ Portuguese Treebank\n",
      "  [ ] framenet_v15........ FrameNet 1.5\n",
      "  [ ] framenet_v17........ FrameNet 1.7\n",
      "Hit Enter to continue: \n",
      "  [ ] gazetteers.......... Gazeteer Lists\n",
      "  [ ] indian.............. Indian Language POS-Tagged Corpus\n",
      "  [ ] jeita............... JEITA Public Morphologically Tagged Corpus (in\n",
      "                           ChaSen format)\n",
      "  [ ] kimmo............... PC-KIMMO Data Files\n",
      "  [ ] knbc................ KNB Corpus (Annotated blog corpus)\n",
      "  [ ] large_grammars...... Large context-free and feature-based grammars\n",
      "                           for parser comparison\n",
      "  [ ] lin_thesaurus....... Lin's Dependency Thesaurus\n",
      "  [ ] mac_morpho.......... MAC-MORPHO: Brazilian Portuguese news text with\n",
      "                           part-of-speech tags\n",
      "  [ ] machado............. Machado de Assis -- Obra Completa\n",
      "  [ ] masc_tagged......... MASC Tagged Corpus\n",
      "  [ ] moses_sample........ Moses Sample Models\n",
      "  [ ] mte_teip5........... MULTEXT-East 1984 annotated corpus 4.0\n",
      "  [ ] mwa_ppdb............ The monolingual word aligner (Sultan et al.\n",
      "                           2015) subset of the Paraphrase Database.\n",
      "  [ ] nombank.1.0......... NomBank Corpus 1.0\n",
      "  [ ] nonbreaking_prefixes Non-Breaking Prefixes (Moses Decoder)\n",
      "  [ ] omw................. Open Multilingual Wordnet\n",
      "  [ ] opinion_lexicon..... Opinion Lexicon\n",
      "Hit Enter to continue: \n",
      "  [ ] paradigms........... Paradigm Corpus\n",
      "  [ ] pe08................ Cross-Framework and Cross-Domain Parser\n",
      "                           Evaluation Shared Task\n",
      "  [ ] perluniprops........ perluniprops: Index of Unicode Version 7.0.0\n",
      "                           character properties in Perl\n",
      "  [ ] pil................. The Patient Information Leaflet (PIL) Corpus\n",
      "  [ ] pl196x.............. Polish language of the XX century sixties\n",
      "  [ ] porter_test......... Porter Stemmer Test Files\n",
      "  [ ] problem_reports..... Problem Report Corpus\n",
      "  [ ] product_reviews_1... Product Reviews (5 Products)\n",
      "  [ ] product_reviews_2... Product Reviews (9 Products)\n",
      "  [ ] propbank............ Proposition Bank Corpus 1.0\n",
      "  [ ] pros_cons........... Pros and Cons\n",
      "  [ ] ptb................. Penn Treebank\n",
      "  [ ] qc.................. Experimental Data for Question Classification\n",
      "  [ ] rslp................ RSLP Stemmer (Removedor de Sufixos da Lingua\n",
      "                           Portuguesa)\n",
      "  [ ] rte................. PASCAL RTE Challenges 1, 2, and 3\n",
      "  [ ] sample_grammars..... Sample Grammars\n",
      "  [ ] semcor.............. SemCor 3.0\n",
      "  [ ] sentence_polarity... Sentence Polarity Dataset v1.0\n",
      "Hit Enter to continue: \n",
      "  [ ] sentiwordnet........ SentiWordNet\n",
      "  [ ] shakespeare......... Shakespeare XML Corpus Sample\n",
      "  [ ] sinica_treebank..... Sinica Treebank Corpus Sample\n",
      "  [ ] smultron............ SMULTRON Corpus Sample\n",
      "  [ ] snowball_data....... Snowball Data\n",
      "  [ ] spanish_grammars.... Grammars for Spanish\n",
      "  [ ] subjectivity........ Subjectivity Dataset v1.0\n",
      "  [ ] switchboard......... Switchboard Corpus Sample\n",
      "  [ ] twitter_samples..... Twitter Samples\n",
      "  [ ] universal_treebanks_v20 Universal Treebanks Version 2.0\n",
      "  [ ] vader_lexicon....... VADER Sentiment Lexicon\n",
      "  [ ] verbnet............. VerbNet Lexicon, Version 2.1\n",
      "  [ ] wmt15_eval.......... Evaluation data from WMT15\n",
      "  [ ] word2vec_sample..... Word2Vec Sample\n",
      "  [ ] ycoe................ York-Toronto-Helsinki Parsed Corpus of Old\n",
      "                           English Prose\n",
      "\n",
      "Collections:\n",
      "  [P] all-corpora......... All the corpora\n",
      "  [P] all-nltk............ All packages available on nltk_data gh-pages\n",
      "                           branch\n",
      "  [P] all................. All packages\n",
      "Hit Enter to continue: \n",
      "  [P] popular............. Popular packages\n",
      "  [P] tests............... Packages for running tests\n",
      "  [ ] third-party......... Third-party data packages\n",
      "\n",
      "([*] marks installed packages; [P] marks partially installed collections)\n",
      "\n",
      "Download which package (l=list; x=cancel)?\n",
      "  Identifier> all\n",
      "    Downloading collection 'all'\n",
      "       | \n",
      "       | Downloading package abc to\n",
      "       |     /gpfs/fs01/user/s154-d7516c5a56fe0f-a89c647b5a7c/nltk_dat\n",
      "       |     a...\n",
      "       |   Package abc is already up-to-date!\n",
      "       | Downloading package alpino to\n",
      "       |     /gpfs/fs01/user/s154-d7516c5a56fe0f-a89c647b5a7c/nltk_dat\n",
      "       |     a...\n",
      "       |   Unzipping corpora/alpino.zip.\n",
      "       | Downloading package biocreative_ppi to\n",
      "       |     /gpfs/fs01/user/s154-d7516c5a56fe0f-a89c647b5a7c/nltk_dat\n",
      "       |     a...\n",
      "       |   Unzipping corpora/biocreative_ppi.zip.\n",
      "       | Downloading package brown to\n",
      "       |     /gpfs/fs01/user/s154-d7516c5a56fe0f-a89c647b5a7c/nltk_dat\n",
      "       |     a...\n",
      "       |   Package brown is already up-to-date!\n",
      "       | Downloading package brown_tei to\n",
      "       |     /gpfs/fs01/user/s154-d7516c5a56fe0f-a89c647b5a7c/nltk_dat\n",
      "       |     a...\n",
      "       |   Unzipping corpora/brown_tei.zip.\n",
      "       | Downloading package cess_cat to\n",
      "       |     /gpfs/fs01/user/s154-d7516c5a56fe0f-a89c647b5a7c/nltk_dat\n",
      "       |     a...\n",
      "       |   Unzipping corpora/cess_cat.zip.\n",
      "       | Downloading package cess_esp to\n",
      "       |     /gpfs/fs01/user/s154-d7516c5a56fe0f-a89c647b5a7c/nltk_dat\n",
      "       |     a...\n",
      "       |   Unzipping corpora/cess_esp.zip.\n",
      "       | Downloading package chat80 to\n",
      "       |     /gpfs/fs01/user/s154-d7516c5a56fe0f-a89c647b5a7c/nltk_dat\n",
      "       |     a...\n",
      "       |   Package chat80 is already up-to-date!\n",
      "       | Downloading package city_database to\n",
      "       |     /gpfs/fs01/user/s154-d7516c5a56fe0f-a89c647b5a7c/nltk_dat\n",
      "       |     a...\n",
      "       |   Package city_database is already up-to-date!\n",
      "       | Downloading package cmudict to\n",
      "       |     /gpfs/fs01/user/s154-d7516c5a56fe0f-a89c647b5a7c/nltk_dat\n",
      "       |     a...\n",
      "       |   Package cmudict is already up-to-date!\n",
      "       | Downloading package comparative_sentences to\n",
      "       |     /gpfs/fs01/user/s154-d7516c5a56fe0f-a89c647b5a7c/nltk_dat\n",
      "       |     a...\n",
      "       |   Unzipping corpora/comparative_sentences.zip.\n",
      "       | Downloading package comtrans to\n",
      "       |     /gpfs/fs01/user/s154-d7516c5a56fe0f-a89c647b5a7c/nltk_dat\n",
      "       |     a...\n",
      "       | Downloading package conll2000 to\n",
      "       |     /gpfs/fs01/user/s154-d7516c5a56fe0f-a89c647b5a7c/nltk_dat\n",
      "       |     a...\n",
      "       |   Package conll2000 is already up-to-date!\n",
      "       | Downloading package conll2002 to\n",
      "       |     /gpfs/fs01/user/s154-d7516c5a56fe0f-a89c647b5a7c/nltk_dat\n",
      "       |     a...\n",
      "       |   Package conll2002 is already up-to-date!\n",
      "       | Downloading package conll2007 to\n",
      "       |     /gpfs/fs01/user/s154-d7516c5a56fe0f-a89c647b5a7c/nltk_dat\n",
      "       |     a...\n",
      "       | Downloading package crubadan to\n",
      "       |     /gpfs/fs01/user/s154-d7516c5a56fe0f-a89c647b5a7c/nltk_dat\n",
      "       |     a...\n",
      "       |   Unzipping corpora/crubadan.zip.\n",
      "       | Downloading package dependency_treebank to\n",
      "       |     /gpfs/fs01/user/s154-d7516c5a56fe0f-a89c647b5a7c/nltk_dat\n",
      "       |     a...\n",
      "       |   Package dependency_treebank is already up-to-date!\n",
      "       | Downloading package dolch to\n",
      "       |     /gpfs/fs01/user/s154-d7516c5a56fe0f-a89c647b5a7c/nltk_dat\n",
      "       |     a...\n",
      "       |   Unzipping corpora/dolch.zip.\n",
      "       | Downloading package europarl_raw to\n",
      "       |     /gpfs/fs01/user/s154-d7516c5a56fe0f-a89c647b5a7c/nltk_dat\n",
      "       |     a...\n",
      "       |   Unzipping corpora/europarl_raw.zip.\n",
      "       | Downloading package floresta to\n",
      "       |     /gpfs/fs01/user/s154-d7516c5a56fe0f-a89c647b5a7c/nltk_dat\n",
      "       |     a...\n",
      "       |   Unzipping corpora/floresta.zip.\n",
      "       | Downloading package framenet_v15 to\n",
      "       |     /gpfs/fs01/user/s154-d7516c5a56fe0f-a89c647b5a7c/nltk_dat\n",
      "       |     a...\n",
      "       |   Unzipping corpora/framenet_v15.zip.\n",
      "       | Downloading package framenet_v17 to\n",
      "       |     /gpfs/fs01/user/s154-d7516c5a56fe0f-a89c647b5a7c/nltk_dat\n",
      "       |     a...\n",
      "       |   Unzipping corpora/framenet_v17.zip.\n",
      "       | Downloading package gazetteers to\n",
      "       |     /gpfs/fs01/user/s154-d7516c5a56fe0f-a89c647b5a7c/nltk_dat\n",
      "       |     a...\n",
      "       |   Unzipping corpora/gazetteers.zip.\n",
      "       | Downloading package genesis to\n",
      "       |     /gpfs/fs01/user/s154-d7516c5a56fe0f-a89c647b5a7c/nltk_dat\n",
      "       |     a...\n",
      "       |   Package genesis is already up-to-date!\n",
      "       | Downloading package gutenberg to\n",
      "       |     /gpfs/fs01/user/s154-d7516c5a56fe0f-a89c647b5a7c/nltk_dat\n",
      "       |     a...\n",
      "       |   Package gutenberg is already up-to-date!\n",
      "       | Downloading package ieer to\n",
      "       |     /gpfs/fs01/user/s154-d7516c5a56fe0f-a89c647b5a7c/nltk_dat\n",
      "       |     a...\n",
      "       |   Package ieer is already up-to-date!\n",
      "       | Downloading package inaugural to\n",
      "       |     /gpfs/fs01/user/s154-d7516c5a56fe0f-a89c647b5a7c/nltk_dat\n",
      "       |     a...\n",
      "       |   Package inaugural is already up-to-date!\n",
      "       | Downloading package indian to\n",
      "       |     /gpfs/fs01/user/s154-d7516c5a56fe0f-a89c647b5a7c/nltk_dat\n",
      "       |     a...\n",
      "       |   Unzipping corpora/indian.zip.\n",
      "       | Downloading package jeita to\n",
      "       |     /gpfs/fs01/user/s154-d7516c5a56fe0f-a89c647b5a7c/nltk_dat\n",
      "       |     a...\n",
      "       | Downloading package kimmo to\n",
      "       |     /gpfs/fs01/user/s154-d7516c5a56fe0f-a89c647b5a7c/nltk_dat\n",
      "       |     a...\n",
      "       |   Unzipping corpora/kimmo.zip.\n",
      "       | Downloading package knbc to\n",
      "       |     /gpfs/fs01/user/s154-d7516c5a56fe0f-a89c647b5a7c/nltk_dat\n",
      "       |     a...\n",
      "       | Downloading package lin_thesaurus to\n",
      "       |     /gpfs/fs01/user/s154-d7516c5a56fe0f-a89c647b5a7c/nltk_dat\n",
      "       |     a...\n",
      "       |   Unzipping corpora/lin_thesaurus.zip.\n",
      "       | Downloading package mac_morpho to\n",
      "       |     /gpfs/fs01/user/s154-d7516c5a56fe0f-a89c647b5a7c/nltk_dat\n",
      "       |     a...\n",
      "       |   Unzipping corpora/mac_morpho.zip.\n",
      "       | Downloading package machado to\n",
      "       |     /gpfs/fs01/user/s154-d7516c5a56fe0f-a89c647b5a7c/nltk_dat\n",
      "       |     a...\n",
      "       | Downloading package masc_tagged to\n",
      "       |     /gpfs/fs01/user/s154-d7516c5a56fe0f-a89c647b5a7c/nltk_dat\n",
      "       |     a...\n",
      "       | Downloading package moses_sample to\n",
      "       |     /gpfs/fs01/user/s154-d7516c5a56fe0f-a89c647b5a7c/nltk_dat\n",
      "       |     a...\n",
      "       |   Unzipping models/moses_sample.zip.\n",
      "       | Downloading package movie_reviews to\n",
      "       |     /gpfs/fs01/user/s154-d7516c5a56fe0f-a89c647b5a7c/nltk_dat\n",
      "       |     a...\n",
      "       |   Package movie_reviews is already up-to-date!\n",
      "       | Downloading package names to\n",
      "       |     /gpfs/fs01/user/s154-d7516c5a56fe0f-a89c647b5a7c/nltk_dat\n",
      "       |     a...\n",
      "       |   Package names is already up-to-date!\n",
      "       | Downloading package nombank.1.0 to\n",
      "       |     /gpfs/fs01/user/s154-d7516c5a56fe0f-a89c647b5a7c/nltk_dat\n",
      "       |     a...\n",
      "       | Downloading package nps_chat to\n",
      "       |     /gpfs/fs01/user/s154-d7516c5a56fe0f-a89c647b5a7c/nltk_dat\n",
      "       |     a...\n",
      "       |   Package nps_chat is already up-to-date!\n",
      "       | Downloading package omw to\n",
      "       |     /gpfs/fs01/user/s154-d7516c5a56fe0f-a89c647b5a7c/nltk_dat\n",
      "       |     a...\n",
      "       |   Unzipping corpora/omw.zip.\n",
      "       | Downloading package opinion_lexicon to\n",
      "       |     /gpfs/fs01/user/s154-d7516c5a56fe0f-a89c647b5a7c/nltk_dat\n",
      "       |     a...\n",
      "       |   Unzipping corpora/opinion_lexicon.zip.\n",
      "       | Downloading package paradigms to\n",
      "       |     /gpfs/fs01/user/s154-d7516c5a56fe0f-a89c647b5a7c/nltk_dat\n",
      "       |     a...\n",
      "       |   Unzipping corpora/paradigms.zip.\n",
      "       | Downloading package pil to\n",
      "       |     /gpfs/fs01/user/s154-d7516c5a56fe0f-a89c647b5a7c/nltk_dat\n",
      "       |     a...\n",
      "       |   Unzipping corpora/pil.zip.\n",
      "       | Downloading package pl196x to\n",
      "       |     /gpfs/fs01/user/s154-d7516c5a56fe0f-a89c647b5a7c/nltk_dat\n",
      "       |     a...\n",
      "       |   Unzipping corpora/pl196x.zip.\n",
      "       | Downloading package ppattach to\n",
      "       |     /gpfs/fs01/user/s154-d7516c5a56fe0f-a89c647b5a7c/nltk_dat\n",
      "       |     a...\n",
      "       |   Package ppattach is already up-to-date!\n",
      "       | Downloading package problem_reports to\n",
      "       |     /gpfs/fs01/user/s154-d7516c5a56fe0f-a89c647b5a7c/nltk_dat\n",
      "       |     a...\n",
      "       |   Unzipping corpora/problem_reports.zip.\n",
      "       | Downloading package propbank to\n",
      "       |     /gpfs/fs01/user/s154-d7516c5a56fe0f-a89c647b5a7c/nltk_dat\n",
      "       |     a...\n",
      "       | Downloading package ptb to\n",
      "       |     /gpfs/fs01/user/s154-d7516c5a56fe0f-a89c647b5a7c/nltk_dat\n",
      "       |     a...\n",
      "       |   Unzipping corpora/ptb.zip.\n",
      "       | Downloading package product_reviews_1 to\n",
      "       |     /gpfs/fs01/user/s154-d7516c5a56fe0f-a89c647b5a7c/nltk_dat\n",
      "       |     a...\n",
      "       |   Unzipping corpora/product_reviews_1.zip.\n",
      "       | Downloading package product_reviews_2 to\n",
      "       |     /gpfs/fs01/user/s154-d7516c5a56fe0f-a89c647b5a7c/nltk_dat\n",
      "       |     a...\n",
      "       |   Unzipping corpora/product_reviews_2.zip.\n",
      "       | Downloading package pros_cons to\n",
      "       |     /gpfs/fs01/user/s154-d7516c5a56fe0f-a89c647b5a7c/nltk_dat\n",
      "       |     a...\n",
      "       |   Unzipping corpora/pros_cons.zip.\n",
      "       | Downloading package qc to\n",
      "       |     /gpfs/fs01/user/s154-d7516c5a56fe0f-a89c647b5a7c/nltk_dat\n",
      "       |     a...\n",
      "       |   Unzipping corpora/qc.zip.\n",
      "       | Downloading package reuters to\n",
      "       |     /gpfs/fs01/user/s154-d7516c5a56fe0f-a89c647b5a7c/nltk_dat\n",
      "       |     a...\n",
      "       |   Package reuters is already up-to-date!\n",
      "       | Downloading package rte to\n",
      "       |     /gpfs/fs01/user/s154-d7516c5a56fe0f-a89c647b5a7c/nltk_dat\n",
      "       |     a...\n",
      "       |   Unzipping corpora/rte.zip.\n",
      "       | Downloading package semcor to\n",
      "       |     /gpfs/fs01/user/s154-d7516c5a56fe0f-a89c647b5a7c/nltk_dat\n",
      "       |     a...\n",
      "       | Downloading package senseval to\n",
      "       |     /gpfs/fs01/user/s154-d7516c5a56fe0f-a89c647b5a7c/nltk_dat\n",
      "       |     a...\n",
      "       |   Package senseval is already up-to-date!\n",
      "       | Downloading package sentiwordnet to\n",
      "       |     /gpfs/fs01/user/s154-d7516c5a56fe0f-a89c647b5a7c/nltk_dat\n",
      "       |     a...\n",
      "       |   Unzipping corpora/sentiwordnet.zip.\n",
      "       | Downloading package sentence_polarity to\n",
      "       |     /gpfs/fs01/user/s154-d7516c5a56fe0f-a89c647b5a7c/nltk_dat\n",
      "       |     a...\n",
      "       |   Unzipping corpora/sentence_polarity.zip.\n",
      "       | Downloading package shakespeare to\n",
      "       |     /gpfs/fs01/user/s154-d7516c5a56fe0f-a89c647b5a7c/nltk_dat\n",
      "       |     a...\n",
      "       |   Unzipping corpora/shakespeare.zip.\n",
      "       | Downloading package sinica_treebank to\n",
      "       |     /gpfs/fs01/user/s154-d7516c5a56fe0f-a89c647b5a7c/nltk_dat\n",
      "       |     a...\n",
      "       |   Unzipping corpora/sinica_treebank.zip.\n",
      "       | Downloading package smultron to\n",
      "       |     /gpfs/fs01/user/s154-d7516c5a56fe0f-a89c647b5a7c/nltk_dat\n",
      "       |     a...\n",
      "       |   Unzipping corpora/smultron.zip.\n",
      "       | Downloading package state_union to\n",
      "       |     /gpfs/fs01/user/s154-d7516c5a56fe0f-a89c647b5a7c/nltk_dat\n",
      "       |     a...\n",
      "       |   Package state_union is already up-to-date!\n",
      "       | Downloading package stopwords to\n",
      "       |     /gpfs/fs01/user/s154-d7516c5a56fe0f-a89c647b5a7c/nltk_dat\n",
      "       |     a...\n",
      "       |   Package stopwords is already up-to-date!\n",
      "       | Downloading package subjectivity to\n",
      "       |     /gpfs/fs01/user/s154-d7516c5a56fe0f-a89c647b5a7c/nltk_dat\n",
      "       |     a...\n",
      "       |   Unzipping corpora/subjectivity.zip.\n",
      "       | Downloading package swadesh to\n",
      "       |     /gpfs/fs01/user/s154-d7516c5a56fe0f-a89c647b5a7c/nltk_dat\n",
      "       |     a...\n",
      "       |   Package swadesh is already up-to-date!\n",
      "       | Downloading package switchboard to\n",
      "       |     /gpfs/fs01/user/s154-d7516c5a56fe0f-a89c647b5a7c/nltk_dat\n",
      "       |     a...\n",
      "       |   Unzipping corpora/switchboard.zip.\n",
      "       | Downloading package timit to\n",
      "       |     /gpfs/fs01/user/s154-d7516c5a56fe0f-a89c647b5a7c/nltk_dat\n",
      "       |     a...\n",
      "       |   Package timit is already up-to-date!\n",
      "       | Downloading package toolbox to\n",
      "       |     /gpfs/fs01/user/s154-d7516c5a56fe0f-a89c647b5a7c/nltk_dat\n",
      "       |     a...\n",
      "       |   Package toolbox is already up-to-date!\n",
      "       | Downloading package treebank to\n",
      "       |     /gpfs/fs01/user/s154-d7516c5a56fe0f-a89c647b5a7c/nltk_dat\n",
      "       |     a...\n",
      "       |   Package treebank is already up-to-date!\n",
      "       | Downloading package twitter_samples to\n",
      "       |     /gpfs/fs01/user/s154-d7516c5a56fe0f-a89c647b5a7c/nltk_dat\n",
      "       |     a...\n",
      "       |   Unzipping corpora/twitter_samples.zip.\n",
      "       | Downloading package udhr to\n",
      "       |     /gpfs/fs01/user/s154-d7516c5a56fe0f-a89c647b5a7c/nltk_dat\n",
      "       |     a...\n",
      "       |   Package udhr is already up-to-date!\n",
      "       | Downloading package udhr2 to\n",
      "       |     /gpfs/fs01/user/s154-d7516c5a56fe0f-a89c647b5a7c/nltk_dat\n",
      "       |     a...\n",
      "       |   Package udhr2 is already up-to-date!\n",
      "       | Downloading package unicode_samples to\n",
      "       |     /gpfs/fs01/user/s154-d7516c5a56fe0f-a89c647b5a7c/nltk_dat\n",
      "       |     a...\n",
      "       |   Package unicode_samples is already up-to-date!\n",
      "       | Downloading package universal_treebanks_v20 to\n",
      "       |     /gpfs/fs01/user/s154-d7516c5a56fe0f-a89c647b5a7c/nltk_dat\n",
      "       |     a...\n",
      "       | Downloading package verbnet to\n",
      "       |     /gpfs/fs01/user/s154-d7516c5a56fe0f-a89c647b5a7c/nltk_dat\n",
      "       |     a...\n",
      "       |   Unzipping corpora/verbnet.zip.\n",
      "       | Downloading package webtext to\n",
      "       |     /gpfs/fs01/user/s154-d7516c5a56fe0f-a89c647b5a7c/nltk_dat\n",
      "       |     a...\n",
      "       |   Package webtext is already up-to-date!\n",
      "       | Downloading package wordnet to\n",
      "       |     /gpfs/fs01/user/s154-d7516c5a56fe0f-a89c647b5a7c/nltk_dat\n",
      "       |     a...\n",
      "       |   Package wordnet is already up-to-date!\n",
      "       | Downloading package wordnet_ic to\n",
      "       |     /gpfs/fs01/user/s154-d7516c5a56fe0f-a89c647b5a7c/nltk_dat\n",
      "       |     a...\n",
      "       |   Package wordnet_ic is already up-to-date!\n",
      "       | Downloading package words to\n",
      "       |     /gpfs/fs01/user/s154-d7516c5a56fe0f-a89c647b5a7c/nltk_dat\n",
      "       |     a...\n",
      "       |   Package words is already up-to-date!\n",
      "       | Downloading package ycoe to\n",
      "       |     /gpfs/fs01/user/s154-d7516c5a56fe0f-a89c647b5a7c/nltk_dat\n",
      "       |     a...\n",
      "       |   Unzipping corpora/ycoe.zip.\n",
      "       | Downloading package rslp to\n",
      "       |     /gpfs/fs01/user/s154-d7516c5a56fe0f-a89c647b5a7c/nltk_dat\n",
      "       |     a...\n",
      "       |   Unzipping stemmers/rslp.zip.\n",
      "       | Downloading package maxent_treebank_pos_tagger to\n",
      "       |     /gpfs/fs01/user/s154-d7516c5a56fe0f-a89c647b5a7c/nltk_dat\n",
      "       |     a...\n",
      "       |   Package maxent_treebank_pos_tagger is already up-to-date!\n",
      "       | Downloading package universal_tagset to\n",
      "       |     /gpfs/fs01/user/s154-d7516c5a56fe0f-a89c647b5a7c/nltk_dat\n",
      "       |     a...\n",
      "       |   Package universal_tagset is already up-to-date!\n",
      "       | Downloading package maxent_ne_chunker to\n",
      "       |     /gpfs/fs01/user/s154-d7516c5a56fe0f-a89c647b5a7c/nltk_dat\n",
      "       |     a...\n",
      "       |   Package maxent_ne_chunker is already up-to-date!\n",
      "       | Downloading package punkt to\n",
      "       |     /gpfs/fs01/user/s154-d7516c5a56fe0f-a89c647b5a7c/nltk_dat\n",
      "       |     a...\n",
      "       |   Package punkt is already up-to-date!\n",
      "       | Downloading package book_grammars to\n",
      "       |     /gpfs/fs01/user/s154-d7516c5a56fe0f-a89c647b5a7c/nltk_dat\n",
      "       |     a...\n",
      "       |   Package book_grammars is already up-to-date!\n",
      "       | Downloading package sample_grammars to\n",
      "       |     /gpfs/fs01/user/s154-d7516c5a56fe0f-a89c647b5a7c/nltk_dat\n",
      "       |     a...\n",
      "       |   Unzipping grammars/sample_grammars.zip.\n",
      "       | Downloading package spanish_grammars to\n",
      "       |     /gpfs/fs01/user/s154-d7516c5a56fe0f-a89c647b5a7c/nltk_dat\n",
      "       |     a...\n",
      "       |   Unzipping grammars/spanish_grammars.zip.\n",
      "       | Downloading package basque_grammars to\n",
      "       |     /gpfs/fs01/user/s154-d7516c5a56fe0f-a89c647b5a7c/nltk_dat\n",
      "       |     a...\n",
      "       |   Unzipping grammars/basque_grammars.zip.\n",
      "       | Downloading package large_grammars to\n",
      "       |     /gpfs/fs01/user/s154-d7516c5a56fe0f-a89c647b5a7c/nltk_dat\n",
      "       |     a...\n",
      "       |   Unzipping grammars/large_grammars.zip.\n",
      "       | Downloading package tagsets to\n",
      "       |     /gpfs/fs01/user/s154-d7516c5a56fe0f-a89c647b5a7c/nltk_dat\n",
      "       |     a...\n",
      "       |   Package tagsets is already up-to-date!\n",
      "       | Downloading package snowball_data to\n",
      "       |     /gpfs/fs01/user/s154-d7516c5a56fe0f-a89c647b5a7c/nltk_dat\n",
      "       |     a...\n",
      "       | Downloading package bllip_wsj_no_aux to\n",
      "       |     /gpfs/fs01/user/s154-d7516c5a56fe0f-a89c647b5a7c/nltk_dat\n",
      "       |     a...\n",
      "       |   Unzipping models/bllip_wsj_no_aux.zip.\n",
      "       | Downloading package word2vec_sample to\n",
      "       |     /gpfs/fs01/user/s154-d7516c5a56fe0f-a89c647b5a7c/nltk_dat\n",
      "       |     a...\n",
      "       |   Unzipping models/word2vec_sample.zip.\n",
      "       | Downloading package panlex_swadesh to\n",
      "       |     /gpfs/fs01/user/s154-d7516c5a56fe0f-a89c647b5a7c/nltk_dat\n",
      "       |     a...\n",
      "       |   Package panlex_swadesh is already up-to-date!\n",
      "       | Downloading package mte_teip5 to\n",
      "       |     /gpfs/fs01/user/s154-d7516c5a56fe0f-a89c647b5a7c/nltk_dat\n",
      "       |     a...\n",
      "       |   Unzipping corpora/mte_teip5.zip.\n",
      "       | Downloading package averaged_perceptron_tagger to\n",
      "       |     /gpfs/fs01/user/s154-d7516c5a56fe0f-a89c647b5a7c/nltk_dat\n",
      "       |     a...\n",
      "       |   Package averaged_perceptron_tagger is already up-to-date!\n",
      "       | Downloading package perluniprops to\n",
      "       |     /gpfs/fs01/user/s154-d7516c5a56fe0f-a89c647b5a7c/nltk_dat\n",
      "       |     a...\n",
      "       |   Unzipping misc/perluniprops.zip.\n",
      "       | Downloading package nonbreaking_prefixes to\n",
      "       |     /gpfs/fs01/user/s154-d7516c5a56fe0f-a89c647b5a7c/nltk_dat\n",
      "       |     a...\n",
      "       |   Unzipping corpora/nonbreaking_prefixes.zip.\n",
      "       | Downloading package vader_lexicon to\n",
      "       |     /gpfs/fs01/user/s154-d7516c5a56fe0f-a89c647b5a7c/nltk_dat\n",
      "       |     a...\n",
      "       | Downloading package porter_test to\n",
      "       |     /gpfs/fs01/user/s154-d7516c5a56fe0f-a89c647b5a7c/nltk_dat\n",
      "       |     a...\n",
      "       |   Unzipping stemmers/porter_test.zip.\n",
      "       | Downloading package wmt15_eval to\n",
      "       |     /gpfs/fs01/user/s154-d7516c5a56fe0f-a89c647b5a7c/nltk_dat\n",
      "       |     a...\n",
      "       |   Unzipping models/wmt15_eval.zip.\n",
      "       | Downloading package mwa_ppdb to\n",
      "       |     /gpfs/fs01/user/s154-d7516c5a56fe0f-a89c647b5a7c/nltk_dat\n",
      "       |     a...\n",
      "       |   Unzipping misc/mwa_ppdb.zip.\n",
      "       | \n",
      "     Done downloading collection all\n",
      "\n",
      "---------------------------------------------------------------------------\n",
      "    d) Download   l) List    u) Update   c) Config   h) Help   q) Quit\n",
      "---------------------------------------------------------------------------\n",
      "Downloader> q\n"
     ]
    },
    {
     "data": {
      "text/plain": [
       "True"
      ]
     },
     "execution_count": 7,
     "metadata": {},
     "output_type": "execute_result"
    }
   ],
   "source": [
    "nltk.download()"
   ]
  },
  {
   "cell_type": "code",
   "execution_count": 9,
   "metadata": {},
   "outputs": [
    {
     "name": "stdout",
     "output_type": "stream",
     "text": [
      "*** Introductory Examples for the NLTK Book ***\n",
      "Loading text1, ..., text9 and sent1, ..., sent9\n",
      "Type the name of the text or sentence to view it.\n",
      "Type: 'texts()' or 'sents()' to list the materials.\n",
      "text1: Moby Dick by Herman Melville 1851\n",
      "text2: Sense and Sensibility by Jane Austen 1811\n",
      "text3: The Book of Genesis\n",
      "text4: Inaugural Address Corpus\n",
      "text5: Chat Corpus\n",
      "text6: Monty Python and the Holy Grail\n",
      "text7: Wall Street Journal\n",
      "text8: Personals Corpus\n",
      "text9: The Man Who Was Thursday by G . K . Chesterton 1908\n"
     ]
    }
   ],
   "source": [
    "from nltk.book import *"
   ]
  },
  {
   "cell_type": "code",
   "execution_count": 15,
   "metadata": {},
   "outputs": [
    {
     "data": {
      "text/plain": [
       "<Text: Wall Street Journal>"
      ]
     },
     "execution_count": 15,
     "metadata": {},
     "output_type": "execute_result"
    }
   ],
   "source": [
    "text7"
   ]
  },
  {
   "cell_type": "code",
   "execution_count": 20,
   "metadata": {},
   "outputs": [],
   "source": [
    "from nltk import sent_tokenize\n"
   ]
  },
  {
   "cell_type": "code",
   "execution_count": 22,
   "metadata": {},
   "outputs": [
    {
     "name": "stdout",
     "output_type": "stream",
     "text": [
      "million *U*; New York; billion *U*; Wall Street; program trading; Mrs.\n",
      "Yeargin; vice president; Stock Exchange; Big Board; Georgia Gulf;\n",
      "chief executive; Dow Jones; S&P 500; says *T*-1; York Stock; last\n",
      "year; Sea Containers; South Korea; American Express; San Francisco\n"
     ]
    }
   ],
   "source": [
    "text7.collocations()"
   ]
  },
  {
   "cell_type": "code",
   "execution_count": 27,
   "metadata": {},
   "outputs": [],
   "source": [
    "from nltk.tokenize import word_tokenize\n"
   ]
  },
  {
   "cell_type": "code",
   "execution_count": 28,
   "metadata": {},
   "outputs": [
    {
     "data": {
      "text/plain": [
       "str"
      ]
     },
     "execution_count": 28,
     "metadata": {},
     "output_type": "execute_result"
    }
   ],
   "source": [
    "from urllib import request\n",
    "url = \"http://www.gutenberg.org/cache/epub/5200/pg5200.txt\"\n",
    "response = request.urlopen(url)\n",
    "raw = response.read().decode('utf8')\n",
    "type(raw)"
   ]
  },
  {
   "cell_type": "code",
   "execution_count": 29,
   "metadata": {},
   "outputs": [
    {
     "data": {
      "text/plain": [
       "'\\ufeffThe Project Gutenberg EBook of Metamorphosis, by Franz Kafka\\r\\nTranslated b'"
      ]
     },
     "execution_count": 29,
     "metadata": {},
     "output_type": "execute_result"
    }
   ],
   "source": [
    "raw[:75]"
   ]
  },
  {
   "cell_type": "markdown",
   "metadata": {},
   "source": [
    "# # We need to perform basic Data Cleaning\n",
    "\n",
    "### Load data\n",
    "### 1. Split into words using word_tokenize\n",
    "### 2. Convert to lower case\n",
    "### 3. remove punctuation from each word\n",
    "### 4. filter out stop words using  stop words lib\n",
    "### Refer to https://machinelearningmastery.com/clean-text-machine-learning-python/"
   ]
  },
  {
   "cell_type": "code",
   "execution_count": 50,
   "metadata": {},
   "outputs": [
    {
     "data": {
      "text/plain": [
       "['me',\n",
       " '?',\n",
       " \"''\",\n",
       " 'he',\n",
       " 'thought',\n",
       " '.',\n",
       " 'It',\n",
       " 'was',\n",
       " \"n't\",\n",
       " 'a',\n",
       " 'dream',\n",
       " '.',\n",
       " 'His',\n",
       " 'room',\n",
       " ',',\n",
       " 'a',\n",
       " 'proper',\n",
       " 'human',\n",
       " 'room',\n",
       " 'although',\n",
       " 'a',\n",
       " 'little',\n",
       " 'too',\n",
       " 'small',\n",
       " ',',\n",
       " 'lay',\n",
       " 'peacefully',\n",
       " 'between',\n",
       " 'its',\n",
       " 'four',\n",
       " 'familiar',\n",
       " 'walls',\n",
       " '.',\n",
       " 'A',\n",
       " 'collection',\n",
       " 'of',\n",
       " 'textile',\n",
       " 'samples',\n",
       " 'lay',\n",
       " 'spread',\n",
       " 'out',\n",
       " 'on',\n",
       " 'the',\n",
       " 'table',\n",
       " '-',\n",
       " 'Samsa',\n",
       " 'was',\n",
       " 'a',\n",
       " 'travelling',\n",
       " 'salesman']"
      ]
     },
     "execution_count": 50,
     "metadata": {},
     "output_type": "execute_result"
    }
   ],
   "source": [
    "# Split words using word_tokenize\n",
    "from nltk import sent_tokenize\n",
    "sents=sent_tokenize(raw)\n",
    "sents[25:50]\n",
    "words=word_tokenize(raw)\n",
    "words[100:150]"
   ]
  },
  {
   "cell_type": "code",
   "execution_count": 45,
   "metadata": {},
   "outputs": [
    {
     "data": {
      "text/plain": [
       "878"
      ]
     },
     "execution_count": 45,
     "metadata": {},
     "output_type": "execute_result"
    }
   ],
   "source": [
    "# the story file has heading and first page so we find the first word of first page\n",
    "\n",
    "raw.find('One')"
   ]
  },
  {
   "cell_type": "code",
   "execution_count": 47,
   "metadata": {},
   "outputs": [
    {
     "data": {
      "text/plain": [
       "121975"
      ]
     },
     "execution_count": 47,
     "metadata": {},
     "output_type": "execute_result"
    }
   ],
   "source": [
    "# we are finding the position of last word of the book\n",
    "raw.rfind('young body')"
   ]
  },
  {
   "cell_type": "code",
   "execution_count": 48,
   "metadata": {},
   "outputs": [],
   "source": [
    "# limiting the file words\n",
    "raw=raw[878:121975]"
   ]
  },
  {
   "cell_type": "code",
   "execution_count": 44,
   "metadata": {
    "scrolled": true
   },
   "outputs": [
    {
     "name": "stdout",
     "output_type": "stream",
     "text": [
      "Collecting textblob\n",
      "  Downloading https://files.pythonhosted.org/packages/11/18/7f55c8be6d68ddc4036ffda5382ca51e23a1075987f708b9123712091af1/textblob-0.15.1-py2.py3-none-any.whl (631kB)\n",
      "\u001b[K    100% |████████████████████████████████| 634kB 1.8MB/s eta 0:00:01\n",
      "\u001b[?25hRequirement already satisfied: nltk>=3.1 in /usr/local/src/conda3_runtime.v34/home/envs/DSX-Python35-Spark/lib/python3.5/site-packages (from textblob)\n",
      "Requirement already satisfied: six in /usr/local/src/conda3_runtime.v34/home/envs/DSX-Python35-Spark/lib/python3.5/site-packages (from nltk>=3.1->textblob)\n",
      "Installing collected packages: textblob\n",
      "Successfully installed textblob-0.15.1\n"
     ]
    }
   ],
   "source": [
    "# Installing textblob which is an advanced and faster text processing lib than nltk..\n",
    "#Spacy is much faster with more advanced features \n",
    "\n",
    "# we can install any lib using pip install command below\n",
    "\n",
    "!pip install --user textblob"
   ]
  },
  {
   "cell_type": "code",
   "execution_count": 52,
   "metadata": {},
   "outputs": [],
   "source": [
    "# removing the punctuation values\n",
    "\n",
    "words = [w for w in words if w.isalpha()]\n"
   ]
  },
  {
   "cell_type": "code",
   "execution_count": 54,
   "metadata": {},
   "outputs": [
    {
     "data": {
      "text/plain": [
       "['morning',\n",
       " 'when',\n",
       " 'Gregor',\n",
       " 'Samsa',\n",
       " 'woke',\n",
       " 'from',\n",
       " 'troubled',\n",
       " 'dreams',\n",
       " 'he',\n",
       " 'found',\n",
       " 'himself',\n",
       " 'transformed',\n",
       " 'in',\n",
       " 'his',\n",
       " 'bed',\n",
       " 'into',\n",
       " 'a',\n",
       " 'horrible',\n",
       " 'vermin',\n",
       " 'He',\n",
       " 'lay',\n",
       " 'on',\n",
       " 'his',\n",
       " 'back',\n",
       " 'and',\n",
       " 'if',\n",
       " 'he',\n",
       " 'lifted',\n",
       " 'his',\n",
       " 'head',\n",
       " 'a',\n",
       " 'little',\n",
       " 'he',\n",
       " 'could',\n",
       " 'see',\n",
       " 'his',\n",
       " 'brown',\n",
       " 'belly',\n",
       " 'slightly',\n",
       " 'domed',\n",
       " 'and',\n",
       " 'divided',\n",
       " 'by',\n",
       " 'arches',\n",
       " 'into',\n",
       " 'stiff',\n",
       " 'sections',\n",
       " 'The',\n",
       " 'bedding',\n",
       " 'was',\n",
       " 'hardly',\n",
       " 'able',\n",
       " 'to',\n",
       " 'cover',\n",
       " 'it',\n",
       " 'and',\n",
       " 'seemed',\n",
       " 'ready',\n",
       " 'to',\n",
       " 'slide',\n",
       " 'off',\n",
       " 'any',\n",
       " 'moment',\n",
       " 'His',\n",
       " 'many',\n",
       " 'legs',\n",
       " 'pitifully',\n",
       " 'thin',\n",
       " 'compared',\n",
       " 'with',\n",
       " 'the',\n",
       " 'size',\n",
       " 'of',\n",
       " 'the']"
      ]
     },
     "execution_count": 54,
     "metadata": {},
     "output_type": "execute_result"
    }
   ],
   "source": [
    "words[1:75]"
   ]
  },
  {
   "cell_type": "code",
   "execution_count": 58,
   "metadata": {},
   "outputs": [],
   "source": [
    "# remove the specific punctuation marks using the maketrans function\n",
    "import string\n",
    "table=str.maketrans('','',string.punctuation)\n"
   ]
  },
  {
   "cell_type": "code",
   "execution_count": 59,
   "metadata": {},
   "outputs": [
    {
     "name": "stdout",
     "output_type": "stream",
     "text": [
      "!\"#$%&'()*+,-./:;<=>?@[\\]^_`{|}~\n"
     ]
    }
   ],
   "source": [
    "print(string.punctuation)"
   ]
  },
  {
   "cell_type": "code",
   "execution_count": 60,
   "metadata": {},
   "outputs": [],
   "source": [
    "s_words=[w.translate(table) for w in words]\n"
   ]
  },
  {
   "cell_type": "code",
   "execution_count": 62,
   "metadata": {},
   "outputs": [
    {
     "data": {
      "text/plain": [
       "['morning',\n",
       " 'when',\n",
       " 'Gregor',\n",
       " 'Samsa',\n",
       " 'woke',\n",
       " 'from',\n",
       " 'troubled',\n",
       " 'dreams',\n",
       " 'he']"
      ]
     },
     "execution_count": 62,
     "metadata": {},
     "output_type": "execute_result"
    }
   ],
   "source": [
    "s_words[1:10]"
   ]
  },
  {
   "cell_type": "code",
   "execution_count": 67,
   "metadata": {},
   "outputs": [],
   "source": [
    "# convert to lower case words\n",
    "\n",
    "s_words=[w.lower() for w in s_words]"
   ]
  },
  {
   "cell_type": "code",
   "execution_count": 68,
   "metadata": {},
   "outputs": [
    {
     "data": {
      "text/plain": [
       "['morning',\n",
       " 'when',\n",
       " 'gregor',\n",
       " 'samsa',\n",
       " 'woke',\n",
       " 'from',\n",
       " 'troubled',\n",
       " 'dreams',\n",
       " 'he']"
      ]
     },
     "execution_count": 68,
     "metadata": {},
     "output_type": "execute_result"
    }
   ],
   "source": [
    "s_words[1:10]"
   ]
  },
  {
   "cell_type": "markdown",
   "metadata": {},
   "source": [
    "Stem Words:\n",
    "Stemming refers to the process of reducing each word to its root or base.\n",
    "\n",
    "For example “fishing,” “fished,” “fisher” all reduce to the stem “fish.”\n",
    "\n",
    "Some applications, like document classification, may benefit from stemming in order to both reduce the vocabulary and to focus on the sense or sentiment of a document rather than deeper meaning.\n",
    "\n",
    "There are many stemming algorithms, although a popular and long-standing method is the Porter Stemming algorithm. This method is available in NLTK via the PorterStemmer class.\n",
    "\n",
    "For example:"
   ]
  },
  {
   "cell_type": "code",
   "execution_count": 70,
   "metadata": {},
   "outputs": [
    {
     "data": {
      "text/plain": [
       "<PorterStemmer>"
      ]
     },
     "execution_count": 70,
     "metadata": {},
     "output_type": "execute_result"
    }
   ],
   "source": [
    "# Now we will introduce stemming to the list of words\n",
    "\n",
    "from nltk.stem.porter import PorterStemmer\n",
    "\n",
    "porter=PorterStemmer()\n",
    "\n",
    "porter"
   ]
  },
  {
   "cell_type": "code",
   "execution_count": 71,
   "metadata": {},
   "outputs": [],
   "source": [
    "Stemmed_words=[porter.stem(w) for w in s_words]"
   ]
  },
  {
   "cell_type": "code",
   "execution_count": 72,
   "metadata": {},
   "outputs": [
    {
     "data": {
      "text/plain": [
       "['morn',\n",
       " 'when',\n",
       " 'gregor',\n",
       " 'samsa',\n",
       " 'woke',\n",
       " 'from',\n",
       " 'troubl',\n",
       " 'dream',\n",
       " 'he',\n",
       " 'found',\n",
       " 'himself',\n",
       " 'transform',\n",
       " 'in',\n",
       " 'hi',\n",
       " 'bed',\n",
       " 'into',\n",
       " 'a',\n",
       " 'horribl',\n",
       " 'vermin']"
      ]
     },
     "execution_count": 72,
     "metadata": {},
     "output_type": "execute_result"
    }
   ],
   "source": [
    "Stemmed_words[1:20]"
   ]
  },
  {
   "cell_type": "code",
   "execution_count": 74,
   "metadata": {},
   "outputs": [],
   "source": [
    "# Now we are going to remove Stop words from the stemmed data\n",
    "\n",
    "from nltk.corpus import stopwords\n",
    "\n",
    "stop_words= set(stopwords.words('english'))"
   ]
  },
  {
   "cell_type": "code",
   "execution_count": 75,
   "metadata": {},
   "outputs": [],
   "source": [
    "words_f=[w for w in Stemmed_words if not w in stop_words]"
   ]
  },
  {
   "cell_type": "code",
   "execution_count": 78,
   "metadata": {},
   "outputs": [
    {
     "data": {
      "text/plain": [
       "11218"
      ]
     },
     "execution_count": 78,
     "metadata": {},
     "output_type": "execute_result"
    }
   ],
   "source": [
    "len(words_f)"
   ]
  },
  {
   "cell_type": "code",
   "execution_count": 79,
   "metadata": {},
   "outputs": [
    {
     "data": {
      "text/plain": [
       "21902"
      ]
     },
     "execution_count": 79,
     "metadata": {},
     "output_type": "execute_result"
    }
   ],
   "source": [
    "len(Stemmed_words)"
   ]
  },
  {
   "cell_type": "markdown",
   "metadata": {},
   "source": [
    "# # Now we are going to use Bag of Words encoding on our data\n",
    "\n",
    "## we will use TF ID Vectorizer (Term Frequency - Inverse Document Vectorizer) to build the vocabulary\n",
    "\n",
    "#### We have other options like Count , Freq , Hash --> Vectorizer"
   ]
  },
  {
   "cell_type": "code",
   "execution_count": 82,
   "metadata": {},
   "outputs": [],
   "source": [
    "from sklearn.feature_extraction.text import TfidfVectorizer\n",
    "vect=TfidfVectorizer()"
   ]
  },
  {
   "cell_type": "code",
   "execution_count": 83,
   "metadata": {
    "scrolled": true
   },
   "outputs": [
    {
     "data": {
      "text/plain": [
       "TfidfVectorizer(analyzer='word', binary=False, decode_error='strict',\n",
       "        dtype=<class 'numpy.int64'>, encoding='utf-8', input='content',\n",
       "        lowercase=True, max_df=1.0, max_features=None, min_df=1,\n",
       "        ngram_range=(1, 1), norm='l2', preprocessor=None, smooth_idf=True,\n",
       "        stop_words=None, strip_accents=None, sublinear_tf=False,\n",
       "        token_pattern='(?u)\\\\b\\\\w\\\\w+\\\\b', tokenizer=None, use_idf=True,\n",
       "        vocabulary=None)"
      ]
     },
     "execution_count": 83,
     "metadata": {},
     "output_type": "execute_result"
    }
   ],
   "source": [
    "vect.fit(words_f)"
   ]
  },
  {
   "cell_type": "code",
   "execution_count": 84,
   "metadata": {},
   "outputs": [
    {
     "name": "stdout",
     "output_type": "stream",
     "text": [
      "{'household': 811, 'better': 164, 'pleas': 1202, 'knive': 908, 'main': 992, 'anim': 63, 'upward': 1768, 'head': 769, 'unheard': 1742, 'could': 367, 'mad': 988, 'unselfconsci': 1756, 'warn': 1806, 'whenev': 1827, 'cap': 230, 'glower': 719, 'burn': 218, 'scar': 1384, 'spoken': 1531, 'cost': 364, 'traine': 1700, 'fit': 626, 'flank': 629, 'themselv': 1647, 'thi': 1650, 'window': 1845, 'teaboy': 1634, 'somewher': 1505, 'impos': 842, 'fall': 593, 'collar': 306, 'improv': 845, 'convert': 353, 'hi': 788, 'six': 1465, 'quit': 1274, 'condemn': 328, 'monster': 1045, 'bound': 190, 'seiz': 1398, 'right': 1344, 'smaller': 1485, 'regret': 1304, 'fur': 693, 'footstep': 654, 'much': 1057, 'somebodi': 1500, 'dark': 396, 'whose': 1838, 'regain': 1302, 'wild': 1842, 'convinc': 354, 'empti': 525, 'break': 198, 'complet': 320, 'spineless': 1525, 'eight': 514, 'sword': 1623, 'soon': 1507, 'dead': 401, 'danc': 393, 'world': 1867, 'late': 923, 'trap': 1705, 'chang': 257, 'stupid': 1586, 'death': 404, 'overcom': 1141, 'bowl': 192, 'outsid': 1138, 'clearli': 290, 'dust': 495, 'row': 1352, 'princip': 1236, 'injur': 862, 'wait': 1798, 'pantri': 1156, 'loud': 978, 'know': 910, 'tast': 1633, 'fear': 604, 'unsur': 1758, 'quarter': 1266, 'wa': 1796, 'resist': 1330, 'effect': 512, 'got': 727, 'refrain': 1300, 'breakfast': 199, 'copi': 359, 'rain': 1278, 'whether': 1830, 'adult': 23, 'around': 94, 'serious': 1410, 'confid': 330, 'normal': 1094, 'understand': 1732, 'discard': 445, 'task': 1632, 'abil': 1, 'shout': 1437, 'pang': 1153, 'kind': 902, 'upset': 1767, 'behav': 152, 'unfortun': 1740, 'wipe': 1848, 'love': 982, 'froze': 687, 'boa': 180, 'anyth': 75, 'sad': 1361, 'countri': 370, 'heard': 774, 'former': 664, 'shi': 1426, 'chanc': 256, 'nobodi': 1089, 'electr': 518, 'albeit': 41, 'abov': 3, 'becaus': 139, 'prejudic': 1223, 'someth': 1502, 'reliev': 1312, 'vermin': 1780, 'lifelessli': 951, 'stiff': 1560, 'equip': 551, 'repugn': 1326, 'surpris': 1612, 'proud': 1251, 'must': 1062, 'money': 1042, 'act': 14, 'move': 1054, 'dirt': 441, 'horribl': 804, 'feel': 608, 'time': 1675, 'swallow': 1614, 'dip': 438, 'ring': 1345, 'hot': 807, 'ever': 558, 'affair': 27, 'angri': 61, 'small': 1484, 'bulg': 215, 'enquiringli': 538, 'victim': 1782, 'backward': 123, 'delay': 415, 'second': 1391, 'cautiou': 247, 'walk': 1800, 'commerci': 313, 'let': 943, 'imped': 838, 'errand': 552, 'asid': 97, 'frenzi': 678, 'opportun': 1129, 'therebi': 1648, 'stride': 1574, 'choic': 275, 'cri': 380, 'congratul': 333, 'need': 1076, 'chase': 261, 'true': 1716, 'fourteen': 671, 'delight': 416, 'accept': 6, 'stamp': 1545, 'say': 1382, 'cold': 304, 'realis': 1287, 'hurriedli': 825, 'drove': 491, 'magazin': 990, 'distanc': 456, 'indic': 853, 'roll': 1349, 'hang': 758, 'greet': 737, 'greatli': 735, 'stairway': 1544, 'left': 939, 'recov': 1297, 'sit': 1463, 'littl': 963, 'photograph': 1188, 'whole': 1837, 'accur': 8, 'write': 1874, 'wrap': 1872, 'meantim': 1007, 'enthusiast': 542, 'slide': 1476, 'trace': 1698, 'habit': 750, 'similar': 1455, 'firm': 622, 'go': 720, 'chest': 268, 'bolt': 182, 'tower': 1696, 'determin': 430, 'tick': 1670, 'exampl': 567, 'aim': 38, 'entir': 543, 'seriou': 1409, 'sadden': 1362, 'beyond': 165, 'uniform': 1743, 'courag': 372, 'paid': 1148, 'god': 721, 'wish': 1851, 'sweep': 1617, 'twist': 1722, 'sure': 1610, 'strict': 1573, 'veri': 1779, 'butter': 222, 'bedpost': 142, 'dure': 494, 'inflam': 859, 'displac': 454, 'excus': 574, 'unit': 1745, 'earnest': 502, 'businessman': 221, 'fond': 650, 'imagin': 833, 'compani': 315, 'find': 619, 'flat': 631, 'unkempt': 1746, 'peer': 1173, 'funni': 692, 'thrift': 1663, 'appeal': 79, 'avail': 114, 'deep': 410, 'ceil': 249, 'melancholi': 1014, 'pen': 1176, 'possibl': 1214, 'touchi': 1694, 'spindli': 1524, 'freed': 674, 'agit': 33, 'wooden': 1863, 'mention': 1018, 'cave': 248, 'distinctli': 458, 'overnight': 1142, 'tenant': 1641, 'case': 239, 'pack': 1146, 'salesman': 1369, 'fleck': 632, 'regularli': 1306, 'great': 733, 'travel': 1706, 'behest': 154, 'spi': 1522, 'harder': 762, 'structur': 1579, 'float': 639, 'mistak': 1036, 'box': 193, 'saw': 1381, 'approv': 86, 'supernatur': 1606, 'even': 555, 'scrape': 1386, 'wear': 1817, 'servic': 1412, 'connect': 334, 'gregor': 738, 'door': 470, 'mingl': 1030, 'onc': 1122, 'bedroom': 143, 'satisfi': 1378, 'carelessli': 235, 'shrug': 1441, 'feed': 607, 'blanket': 171, 'last': 922, 'regard': 1303, 'threw': 1662, 'everi': 559, 'emerg': 520, 'attract': 110, 'life': 950, 'lit': 962, 'bone': 184, 'medic': 1011, 'one': 1123, 'everywher': 562, 'caught': 243, 'inde': 852, 'draw': 478, 'newspap': 1083, 'cook': 356, 'desk': 422, 'frequent': 679, 'harshli': 766, 'bad': 124, 'splinter': 1529, 'charlottenstrass': 259, 'establish': 554, 'damag': 391, 'motor': 1052, 'method': 1022, 'reason': 1291, 'land': 919, 'disturb': 462, 'bottom': 189, 'outstretch': 1139, 'use': 1771, 'well': 1822, 'chair': 254, 'man': 995, 'premis': 1224, 'press': 1228, 'faith': 592, 'hefti': 782, 'set': 1414, 'muffl': 1059, 'place': 1196, 'sew': 1418, 'boss': 186, 'anoth': 67, 'self': 1401, 'compellingli': 318, 'doubt': 473, 'offic': 1118, 'transfer': 1702, 'awak': 117, 'number': 1105, 'ordeal': 1132, 'unabl': 1724, 'strongli': 1577, 'effort': 513, 'draught': 477, 'power': 1219, 'mother': 1050, 'punish': 1258, 'tall': 1631, 'belli': 157, 'sale': 1368, 'thunder': 1669, 'abl': 2, 'unsatisfactori': 1755, 'space': 1515, 'forget': 658, 'fix': 628, 'went': 1823, 'arm': 91, 'encourag': 527, 'fulli': 690, 'dare': 395, 'posit': 1213, 'angl': 60, 'question': 1267, 'hung': 820, 'sheet': 1425, 'calmli': 228, 'decid': 407, 'miss': 1035, 'flesh': 635, 'pride': 1235, 'doctor': 465, 'spent': 1521, 'eyebrow': 585, 'pane': 1152, 'broom': 207, 'present': 1227, 'lazi': 928, 'meant': 1006, 'perhap': 1180, 'gild': 710, 'nearest': 1071, 'benefit': 160, 'proceed': 1239, 'startl': 1549, 'unless': 1748, 'rung': 1356, 'afraid': 29, 'separ': 1408, 'resolv': 1331, 'join': 892, 'eas': 504, 'player': 1201, 'lower': 984, 'fact': 588, 'weather': 1819, 'boot': 185, 'wide': 1839, 'unfold': 1739, 'final': 617, 'gratitud': 732, 'readi': 1285, 'nail': 1064, 'flew': 636, 'toler': 1683, 'knife': 907, 'commun': 314, 'tray': 1707, 'injuri': 863, 'surplu': 1611, 'gentli': 707, 'moreov': 1048, 'distinct': 457, 'thump': 1668, 'armchair': 92, 'period': 1181, 'comfort': 310, 'corner': 361, 'rel': 1307, 'wrench': 1873, 'enquiri': 537, 'withstand': 1856, 'meal': 1003, 'resound': 1332, 'cash': 240, 'housekeep': 812, 'child': 271, 'friend': 682, 'cross': 381, 'crawl': 379, 'provid': 1253, 'vertic': 1781, 'crack': 376, 'hall': 753, 'next': 1084, 'mani': 997, 'woken': 1859, 'annoy': 66, 'nonsens': 1093, 'charwoman': 260, 'strong': 1576, 'transform': 1703, 'pull': 1257, 'repeat': 1319, 'asleep': 99, 'snap': 1492, 'strength': 1570, 'ladi': 916, 'ball': 127, 'numer': 1106, 'ad': 17, 'crucial': 383, 'promis': 1243, 'exclaim': 573, 'piec': 1191, 'peac': 1170, 'secur': 1394, 'tremor': 1711, 'strenuou': 1571, 'document': 466, 'squar': 1537, 'gather': 701, 'rememb': 1315, 'jump': 895, 'friendli': 683, 'slowli': 1482, 'intend': 874, 'happi': 760, 'dilig': 436, 'shoulder': 1436, 'flower': 643, 'collaps': 305, 'freeli': 676, 'earn': 501, 'check': 263, 'exchang': 570, 'proper': 1245, 'easier': 506, 'choos': 276, 'dissuad': 455, 'letter': 946, 'wept': 1824, 'uncertainli': 1726, 'apprentic': 83, 'agre': 35, 'sofa': 1494, 'station': 1553, 'lip': 960, 'pile': 1193, 'natur': 1067, 'seven': 1415, 'anger': 59, 'rumin': 1354, 'warm': 1804, 'banist': 129, 'failur': 590, 'broad': 205, 'job': 891, 'night': 1086, 'assist': 101, 'vagu': 1774, 'ani': 62, 'recent': 1294, 'carv': 238, 'help': 785, 'bedsheet': 144, 'steadi': 1555, 'turn': 1719, 'smell': 1488, 'load': 966, 'suffici': 1597, 'junior': 896, 'sudden': 1594, 'itch': 887, 'lean': 931, 'grin': 741, 'hous': 810, 'els': 519, 'transport': 1704, 'cigarett': 281, 'adjoin': 21, 'becam': 138, 'studi': 1583, 'difficulti': 435, 'smart': 1486, 'holiday': 799, 'forth': 666, 'interced': 876, 'patienc': 1166, 'tone': 1684, 'destroy': 427, 'exactli': 564, 'sleev': 1473, 'suppress': 1609, 'frighten': 684, 'wind': 1844, 'neglect': 1078, 'balanc': 126, 'spread': 1534, 'overcoat': 1140, 'tabl': 1627, 'hope': 803, 'eye': 584, 'impress': 844, 'young': 1883, 'bang': 128, 'deal': 402, 'snuffl': 1493, 'talk': 1630, 'whir': 1833, 'protrud': 1249, 'reproach': 1325, 'insist': 868, 'cough': 366, 'implor': 839, 'water': 1810, 'understood': 1733, 'long': 971, 'hurt': 826, 'goe': 722, 'stuff': 1584, 'cloth': 298, 'hell': 784, 'alreadi': 48, 'control': 351, 'seventeen': 1416, 'unnatur': 1751, 'togeth': 1681, 'panic': 1154, 'rather': 1282, 'healthi': 772, 'citi': 283, 'scratch': 1387, 'foot': 653, 'wildest': 1843, 'paus': 1168, 'object': 1107, 'particularli': 1161, 'onto': 1125, 'whim': 1832, 'blow': 177, 'read': 1284, 'contractor': 348, 'minut': 1032, 'lamp': 918, 'detail': 428, 'halt': 755, 'origin': 1134, 'ridicul': 1343, 'afterward': 30, 'heavili': 781, 'bow': 191, 'liveli': 965, 'endear': 529, 'dismiss': 453, 'clever': 293, 'lurch': 986, 'subject': 1588, 'less': 942, 'obsess': 1109, 'revuls': 1341, 'usual': 1773, 'bank': 130, 'coupl': 371, 'alright': 49, 'cashier': 241, 'mix': 1038, 'suggest': 1599, 'bodi': 181, 'occur': 1116, 'cover': 375, 'seem': 1396, 'symptom': 1626, 'lad': 915, 'suddenli': 1595, 'concern': 326, 'envelop': 549, 'incomprehens': 850, 'flow': 642, 'weakli': 1815, 'invis': 883, 'pass': 1163, 'inch': 849, 'budget': 212, 'oh': 1120, 'feet': 609, 'five': 627, 'droplet': 490, 'hungrier': 823, 'involv': 884, 'slightli': 1479, 'hug': 814, 'play': 1200, 'preoccupi': 1225, 'limp': 957, 'safe': 1364, 'chilli': 273, 'acquir': 12, 'soften': 1496, 'bulk': 216, 'heal': 771, 'anna': 64, 'brave': 195, 'except': 568, 'blew': 173, 'asthma': 104, 'year': 1879, 'elderli': 517, 'began': 148, 'good': 725, 'attempt': 108, 'grey': 740, 'ach': 10, 'difficult': 434, 'gentl': 704, 'obviou': 1111, 'slept': 1474, 'struck': 1578, 'entrust': 547, 'shut': 1444, 'notic': 1100, 'drink': 485, 'anew': 58, 'headboard': 770, 'wealth': 1816, 'begin': 149, 'item': 888, 'discourtesi': 447, 'skirt': 1468, 'protect': 1248, 'almond': 44, 'hungri': 822, 'midday': 1023, 'appl': 81, 'ill': 831, 'anxiou': 72, 'basi': 134, 'unsuccess': 1757, 'lethal': 944, 'comb': 308, 'eat': 508, 'unbear': 1725, 'woke': 1858, 'eaten': 509, 'ear': 498, 'sensit': 1406, 'want': 1803, 'quak': 1264, 'point': 1207, 'dawn': 399, 'suffer': 1596, 'cheer': 265, 'sweeten': 1618, 'mayb': 1002, 'ten': 1640, 'old': 1121, 'sacrific': 1360, 'arrang': 95, 'trembl': 1709, 'monogram': 1043, 'dome': 467, 'auster': 112, 'despair': 423, 'privat': 1237, 'probabl': 1238, 'despit': 425, 'succeed': 1591, 'chew': 269, 'big': 166, 'spare': 1516, 'famili': 595, 'ran': 1281, 'stubborn': 1581, 'christma': 279, 'sort': 1510, 'often': 1119, 'neck': 1074, 'town': 1697, 'pillow': 1194, 'wast': 1808, 'voic': 1794, 'experi': 578, 'meet': 1013, 'thin': 1651, 'perfect': 1178, 'wink': 1847, 'unus': 1762, 'sigh': 1449, 'viewer': 1784, 'might': 1025, 'middl': 1024, 'briefli': 203, 'breath': 201, 'heart': 776, 'stranger': 1568, 'end': 528, 'loudest': 979, 'complic': 321, 'leant': 932, 'lung': 985, 'sideboard': 1447, 'plaintiv': 1197, 'peel': 1172, 'fifteen': 614, 'occupi': 1115, 'broke': 206, 'thoughtless': 1657, 'ahead': 37, 'sent': 1407, 'astonish': 105, 'uncontrol': 1730, 'clutter': 301, 'wife': 1841, 'kick': 901, 'begun': 150, 'grand': 729, 'approach': 84, 'live': 964, 'regular': 1305, 'beer': 145, 'divid': 463, 'son': 1506, 'ignor': 828, 'textil': 1645, 'fallen': 594, 'wrong': 1875, 'attribut': 111, 'bucket': 211, 'dirti': 442, 'contrast': 350, 'bushi': 219, 'almost': 45, 'wisdom': 1849, 'add': 18, 'collect': 307, 'wonder': 1862, 'section': 1393, 'drawer': 479, 'longer': 972, 'openli': 1127, 'earlier': 500, 'wrote': 1876, 'spoke': 1530, 'tonight': 1685, 'stone': 1562, 'explan': 581, 'hold': 796, 'steam': 1557, 'speak': 1517, 'potato': 1217, 'human': 815, 'realli': 1288, 'cut': 390, 'conced': 324, 'fretsaw': 681, 'discuss': 449, 'manag': 996, 'unusu': 1763, 'plan': 1198, 'contain': 344, 'thought': 1656, 'polish': 1210, 'debt': 405, 'first': 624, 'air': 39, 'sooner': 1508, 'prop': 1244, 'narrow': 1066, 'inaccess': 846, 'awkwardli': 120, 'speech': 1519, 'smoke': 1490, 'comprehens': 322, 'soft': 1495, 'gift': 709, 'sill': 1454, 'dishevel': 452, 'enorm': 535, 'explain': 580, 'forgot': 660, 'turnov': 1720, 'spend': 1520, 'incap': 847, 'practic': 1220, 'irregular': 885, 'shaken': 1421, 'happen': 759, 'edg': 511, 'sauc': 1379, 'career': 233, 'tightli': 1673, 'lid': 947, 'stop': 1564, 'seat': 1390, 'throughout': 1664, 'flight': 638, 'total': 1692, 'pick': 1189, 'aw': 116, 'reappear': 1289, 'owe': 1145, 'irrit': 886, 'excitedli': 572, 'fluid': 645, 'partli': 1162, 'wash': 1807, 'mind': 1028, 'respect': 1333, 'clearer': 289, 'centr': 251, 'immobil': 836, 'forgiv': 659, 'direct': 439, 'length': 941, 'gave': 702, 'overwork': 1144, 'ought': 1136, 'within': 1854, 'perform': 1179, 'reach': 1283, 'yet': 1882, 'boy': 194, 'instanc': 869, 'member': 1015, 'nearer': 1070, 'disappear': 443, 'staff': 1539, 'hospit': 805, 'pierc': 1192, 'tender': 1642, 'success': 1592, 'scream': 1388, 'labori': 912, 'event': 556, 'gone': 724, 'pain': 1149, 'stain': 1541, 'known': 911, 'frame': 672, 'look': 973, 'uncomfort': 1729, 'women': 1861, 'listen': 961, 'care': 232, 'quietli': 1273, 'filth': 616, 'send': 1403, 'hunger': 821, 'test': 1644, 'stair': 1542, 'repel': 1321, 'day': 400, 'mean': 1005, 'sweetli': 1619, 'came': 229, 'sprung': 1536, 'page': 1147, 'age': 31, 'run': 1355, 'fli': 637, 'without': 1855, 'introduct': 879, 'certainti': 253, 'high': 791, 'fieri': 613, 'slumber': 1483, 'lain': 917, 'convuls': 355, 'ii': 829, 'loss': 975, 'quiet': 1271, 'gleeful': 717, 'windowpan': 1846, 'stumbl': 1585, 'entertain': 540, 'leader': 930, 'knock': 909, 'compar': 317, 'forc': 655, 'sideway': 1448, 'silenc': 1452, 'start': 1548, 'matter': 1001, 'adhes': 20, 'endless': 530, 'consider': 339, 'yesterday': 1881, 'wearili': 1818, 'glimps': 718, 'onli': 1124, 'pour': 1218, 'lieuten': 949, 'belong': 158, 'firmli': 623, 'peev': 1174, 'poke': 1209, 'pressur': 1229, 'wise': 1850, 'glad': 714, 'anxious': 73, 'misfortun': 1034, 'wallpap': 1802, 'pervers': 1187, 'sacrif': 1359, 'anxieti': 71, 'bite': 169, 'bear': 135, 'veget': 1778, 'secret': 1392, 'work': 1865, 'neighbour': 1079, 'ostrich': 1135, 'doze': 474, 'examin': 566, 'attent': 109, 'humanli': 816, 'appear': 80, 'vile': 1787, 'sold': 1497, 'show': 1439, 'urg': 1769, 'slip': 1480, 'cope': 358, 'real': 1286, 'mechan': 1010, 'dish': 451, 'wage': 1797, 'build': 213, 'new': 1081, 'wave': 1811, 'gruff': 745, 'handl': 757, 'full': 689, 'hurri': 824, 'occup': 1114, 'interest': 877, 'brother': 208, 'contact': 343, 'receiv': 1293, 'miracl': 1033, 'took': 1686, 'nap': 1065, 'school': 1385, 'insepar': 866, 'illustr': 832, 'worn': 1868, 'simultan': 1458, 'fanci': 597, 'tortur': 1690, 'inner': 864, 'advic': 25, 'honour': 802, 'medicin': 1012, 'driven': 488, 'told': 1682, 'whisper': 1834, 'scalp': 1383, 'noth': 1099, 'give': 712, 'assur': 103, 'teeth': 1636, 'mr': 1056, 'closer': 297, 'needl': 1077, 'cool': 357, 'declar': 409, 'invalid': 880, 'splendour': 1528, 'hair': 751, 'infirm': 858, 'disgust': 450, 'girl': 711, 'tremend': 1710, 'weaker': 1814, 'conceal': 323, 'helplessli': 787, 'stay': 1554, 'top': 1689, 'away': 119, 'word': 1864, 'crouch': 382, 'companion': 316, 'arduou': 89, 'howev': 813, 'lost': 976, 'bother': 187, 'achiev': 11, 'along': 47, 'invari': 881, 'behaviour': 153, 'ah': 36, 'felt': 611, 'lighter': 954, 'shorthand': 1435, 'lie': 948, 'alon': 46, 'violinist': 1790, 'either': 515, 'drew': 483, 'hearer': 775, 'retreat': 1338, 'differ': 433, 'slightest': 1478, 'street': 1569, 'met': 1020, 'volum': 1795, 'fled': 633, 'fortun': 667, 'pursu': 1261, 'gradual': 728, 'beauti': 137, 'captiv': 231, 'hundr': 819, 'expens': 577, 'coat': 302, 'defend': 413, 'resent': 1329, 'fell': 610, 'bed': 141, 'helpless': 786, 'leather': 936, 'subordin': 1589, 'button': 223, 'visitor': 1793, 'entitl': 544, 'apart': 78, 'humbl': 817, 'ca': 224, 'custom': 389, 'barricad': 133, 'engross': 533, 'like': 956, 'enunci': 548, 'enthusiasm': 541, 'shame': 1423, 'indiffer': 854, 'rent': 1318, 'sadli': 1363, 'fetch': 612, 'fail': 589, 'doorway': 471, 'barren': 132, 'serviett': 1413, 'thank': 1646, 'sometim': 1503, 'area': 90, 'instead': 870, 'earth': 503, 'swish': 1622, 'swing': 1621, 'steadili': 1556, 'revolt': 1340, 'bombard': 183, 'unnecessari': 1752, 'sensibl': 1405, 'guest': 747, 'room': 1350, 'duti': 497, 'lift': 952, 'fruit': 688, 'salt': 1372, 'thrown': 1666, 'tear': 1635, 'thing': 1652, 'suspici': 1613, 'useless': 1772, 'terribl': 1643, 'month': 1046, 'satisfact': 1377, 'threat': 1659, 'pictur': 1190, 'cheaper': 262, 'nice': 1085, 'jewelleri': 890, 'trust': 1717, 'save': 1380, 'spokesman': 1532, 'ate': 106, 'childish': 272, 'troubl': 1714, 'prevail': 1231, 'sampl': 1373, 'persecut': 1184, 'dress': 482, 'flee': 634, 'easi': 505, 'quarrel': 1265, 'march': 998, 'would': 1871, 'dinner': 437, 'unexpect': 1737, 'shown': 1440, 'enemi': 532, 'futur': 696, 'blown': 178, 'domin': 468, 'advantag': 24, 'remind': 1316, 'decay': 406, 'near': 1068, 'trouser': 1715, 'uneasi': 1736, 'sharpli': 1424, 'plate': 1199, 'size': 1467, 'arc': 87, 'risk': 1346, 'repli': 1322, 'shuffl': 1443, 'affect': 28, 'derang': 420, 'unthink': 1759, 'practis': 1221, 'answer': 68, 'form': 663, 'sack': 1358, 'still': 1561, 'everyon': 560, 'fog': 647, 'deterior': 429, 'sound': 1513, 'tempt': 1639, 'rest': 1336, 'import': 840, 'cheek': 264, 'enabl': 526, 'strain': 1566, 'necklac': 1075, 'far': 598, 'institut': 871, 'forefing': 656, 'put': 1263, 'immedi': 835, 'progress': 1241, 'sorrow': 1509, 'emphat': 522, 'alarm': 40, 'timet': 1676, 'slid': 1475, 'lover': 983, 'unwel': 1764, 'widow': 1840, 'forehead': 657, 'carri': 237, 'though': 1655, 'produc': 1240, 'tidi': 1672, 'spin': 1523, 'sink': 1460, 'furnish': 694, 'claim': 284, 'express': 582, 'bend': 159, 'saint': 1366, 'nonetheless': 1092, 'hostil': 806, 'occasion': 1113, 'constru': 341, 'antenna': 69, 'polit': 1211, 'never': 1080, 'judg': 894, 'leg': 940, 'hidden': 789, 'vain': 1775, 'drip': 486, 'idea': 827, 'hit': 795, 'individu': 855, 'moment': 1041, 'grete': 739, 'favourit': 603, 'chambermaid': 255, 'toothless': 1688, 'swang': 1615, 'solid': 1499, 'oppress': 1131, 'deeper': 411, 'leav': 937, 'swore': 1624, 'conscienc': 335, 'letharg': 945, 'action': 15, 'minor': 1031, 'recognis': 1295, 'obstin': 1110, 'disconcert': 446, 'beard': 136, 'smear': 1487, 'us': 1770, 'untouch': 1761, 'contrari': 349, 'stagger': 1540, 'pointless': 1208, 'appropri': 85, 'mistrust': 1037, 'flounder': 641, 'fashion': 599, 'sake': 1367, 'bleed': 172, 'ha': 749, 'suffoc': 1598, 'entranc': 546, 'certainli': 252, 'treat': 1708, 'swept': 1620, 'heaviest': 780, 'hour': 809, 'poor': 1212, 'feebl': 606, 'investig': 882, 'heavi': 779, 'bottl': 188, 'devot': 431, 'rid': 1342, 'lightli': 955, 'news': 1082, 'importun': 841, 'follow': 649, 'extrem': 583, 'knew': 906, 'obvious': 1112, 'elast': 516, 'superflu': 1604, 'threaten': 1660, 'sourc': 1514, 'gossip': 726, 'previou': 1233, 'distract': 460, 'circumst': 282, 'disappoint': 444, 'excit': 571, 'trip': 1713, 'mere': 1019, 'repres': 1324, 'quiver': 1275, 'fro': 685, 'straight': 1565, 'advis': 26, 'relat': 1308, 'nois': 1091, 'wherea': 1828, 'unpleas': 1754, 'announc': 65, 'sank': 1375, 'sens': 1404, 'rub': 1353, 'unnerv': 1753, 'imposs': 843, 'hard': 761, 'hiss': 794, 'unyield': 1765, 'grant': 730, 'appreci': 82, 'locksmith': 969, 'startlement': 1550, 'slam': 1470, 'precaut': 1222, 'music': 1061, 'avoid': 115, 'infant': 857, 'upright': 1766, 'provok': 1255, 'befor': 146, 'sunshin': 1603, 'enjoy': 534, 'tip': 1678, 'properli': 1246, 'ground': 743, 'strang': 1567, 'fork': 662, 'laugh': 926, 'selfish': 1402, 'order': 1133, 'bring': 204, 'sunday': 1601, 'sat': 1376, 'seen': 1397, 'caus': 244, 'withdrew': 1853, 'describ': 421, 'samsa': 1374, 'think': 1653, 'gush': 748, 'floor': 640, 'knee': 905, 'unchang': 1727, 'peopl': 1177, 'underneath': 1731, 'abandon': 0, 'part': 1159, 'purpos': 1260, 'sleepi': 1472, 'twice': 1721, 'curs': 387, 'courtesi': 374, 'ga': 697, 'drop': 489, 'tire': 1679, 'pay': 1169, 'provinci': 1254, 'warmth': 1805, 'daughter': 398, 'valu': 1776, 'hide': 790, 'clerk': 292, 'commerc': 312, 'muster': 1063, 'fast': 600, 'visit': 1792, 'gold': 723, 'temporarili': 1638, 'prohibit': 1242, 'fist': 625, 'distress': 461, 'pair': 1150, 'opinion': 1128, 'leapt': 933, 'curios': 384, 'hear': 773, 'cheerio': 266, 'couch': 365, 'observ': 1108, 'nostril': 1096, 'ask': 98, 'sleep': 1471, 'rais': 1279, 'joy': 893, 'white': 1836, 'permiss': 1183, 'climb': 294, 'iii': 830, 'denud': 418, 'light': 953, 'drive': 487, 'clench': 291, 'scurri': 1389, 'limpli': 958, 'destin': 426, 'actual': 16, 'badli': 125, 'game': 699, 'consum': 342, 'crate': 378, 'cleaner': 287, 'undisturb': 1735, 'learn': 934, 'refus': 1301, 'persuad': 1186, 'step': 1558, 'respond': 1334, 'clear': 288, 'remov': 1317, 'shop': 1432, 'discoveri': 448, 'whereabout': 1829, 'lock': 968, 'countless': 369, 'darkest': 397, 'salli': 1371, 'bent': 161, 'return': 1339, 'contract': 347, 'hazard': 768, 'drawn': 480, 'free': 673, 'content': 345, 'worri': 1869, 'believ': 156, 'push': 1262, 'state': 1552, 'whi': 1831, 'employ': 523, 'coffe': 303, 'unimped': 1744, 'excess': 569, 'gentlemen': 706, 'get': 708, 'therefor': 1649, 'three': 1661, 'condit': 329, 'morn': 1049, 'quieter': 1272, 'aggriev': 32, 'chief': 270, 'dear': 403, 'exagger': 565, 'made': 989, 'fool': 652, 'highli': 792, 'strike': 1575, 'shock': 1429, 'side': 1446, 'smile': 1489, 'demand': 417, 'chosen': 278, 'vigor': 1785, 'perman': 1182, 'drank': 476, 'mealtim': 1004, 'arriv': 96, 'today': 1680, 'heav': 777, 'dream': 481, 'note': 1098, 'receipt': 1292, 'sole': 1498, 'behalf': 151, 'nearli': 1072, 'confus': 332, 'toward': 1695, 'spit': 1526, 'hotel': 808, 'consid': 338, 'vigour': 1786, 'respons': 1335, 'armi': 93, 'spot': 1533, 'latest': 925, 'tram': 1701, 'hat': 767, 'sympathi': 1625, 'count': 368, 'assum': 102, 'nightgown': 1088, 'flown': 644, 'danger': 394, 'brought': 209, 'bin': 167, 'withdraw': 1852, 'gentleman': 705, 'nowaday': 1102, 'simpli': 1457, 'way': 1812, 'thu': 1667, 'memori': 1016, 'incred': 851, 'furnitur': 695, 'maintain': 993, 'shook': 1431, 'clock': 295, 'four': 670, 'worst': 1870, 'exhaust': 575, 'dizzi': 464, 'milk': 1027, 'doubl': 472, 'stretch': 1572, 'familiar': 596, 'jaw': 889, 'calmer': 227, 'kept': 899, 'necessari': 1073, 'finish': 621, 'ancient': 57, 'remark': 1314, 'unlik': 1749, 'hallway': 754, 'movement': 1055, 'besid': 162, 'faint': 591, 'beg': 147, 'junk': 897, 'struggl': 1580, 'glass': 716, 'select': 1400, 'enough': 536, 'violin': 1789, 'silent': 1453, 'squeak': 1538, 'superior': 1605, 'suppos': 1608, 'interrupt': 878, 'nod': 1090, 'amount': 56, 'subtleti': 1590, 'loudli': 980, 'kiss': 903, 'convers': 352, 'incarcer': 848, 'tell': 1637, 'fill': 615, 'favour': 602, 'stuck': 1582, 'amaz': 54, 'given': 713, 'quick': 1268, 'slow': 1481, 'least': 935, 'sinc': 1459, 'relax': 1309, 'hole': 798, 'author': 113, 'labour': 913, 'weight': 1821, 'mouth': 1053, 'shabbier': 1419, 'feather': 605, 'shortcom': 1434, 'wo': 1857, 'recommend': 1296, 'among': 55, 'modest': 1040, 'sir': 1461, 'bitter': 170, 'numb': 1104, 'celebr': 250, 'guess': 746, 'see': 1395, 'immacul': 834, 'shudder': 1442, 'line': 959, 'best': 163, 'untidi': 1760, 'catch': 242, 'face': 587, 'train': 1699, 'crash': 377, 'flap': 630, 'muff': 1058, 'address': 19, 'splash': 1527, 'although': 51, 'locat': 967, 'earli': 499, 'instrument': 872, 'dustbin': 496, 'yearn': 1880, 'visibl': 1791, 'sway': 1616, 'finger': 620, 'abruptli': 4, 'tri': 1712, 'sign': 1451, 'tickl': 1671, 'groan': 742, 'pot': 1216, 'breadth': 197, 'remain': 1313, 'becom': 140, 'pretend': 1230, 'intent': 875, 'suitabl': 1600, 'quickli': 1270, 'function': 691, 'larg': 921, 'expect': 576, 'unlock': 1750, 'chuck': 280, 'curiou': 385, 'requir': 1328, 'chin': 274, 'gaze': 703, 'allow': 43, 'homework': 801, 'clumsili': 300, 'pure': 1259, 'ye': 1878, 'stare': 1547, 'inherit': 861, 'parent': 1158, 'come': 309, 'unhappi': 1741, 'ago': 34, 'shall': 1422, 'sister': 1462, 'seldom': 1399, 'corps': 362, 'stand': 1546, 'luxuri': 987, 'yank': 1877, 'shove': 1438, 'slight': 1477, 'unknown': 1747, 'stick': 1559, 'public': 1256, 'nearbi': 1069, 'sick': 1445, 'curtain': 388, 'shini': 1427, 'lead': 929, 'meat': 1009, 'opposit': 1130, 'lout': 981, 'gaslight': 700, 'past': 1164, 'bare': 131, 'caustic': 245, 'thread': 1658, 'gain': 698, 'repeatedli': 1320, 'nuisanc': 1103, 'greedili': 736, 'reliabl': 1311, 'kitchen': 904, 'prevent': 1232, 'men': 1017, 'desper': 424, 'especi': 553, 'formerli': 665, 'accus': 9, 'unclear': 1728, 'enter': 539, 'request': 1327, 'back': 122, 'bread': 196, 'releas': 1310, 'mindlessli': 1029, 'peg': 1175, 'consist': 340, 'tool': 1687, 'sunk': 1602, 'watch': 1809, 'definit': 414, 'prepar': 1226, 'thoroughli': 1654, 'heaven': 778, 'rock': 1348, 'anyon': 74, 'done': 469, 'price': 1234, 'facad': 586, 'chees': 267, 'call': 225, 'drag': 475, 'somewhat': 1504, 'wall': 1801, 'die': 432, 'ined': 856, 'timor': 1677, 'dri': 484, 'person': 1185, 'keep': 898, 'awar': 118, 'insid': 867, 'exact': 563, 'short': 1433, 'mild': 1026, 'lot': 977, 'quicker': 1269, 'carpet': 236, 'smooth': 1491, 'simpl': 1456, 'employe': 524, 'take': 1628, 'accumul': 7, 'nourish': 1101, 'result': 1337, 'continu': 346, 'peculiar': 1171, 'till': 1674, 'distinguish': 459, 'clumsi': 299, 'altogeth': 52, 'groundless': 744, 'hand': 756, 'variou': 1777, 'rage': 1277, 'breast': 200, 'whistl': 1835, 'deepli': 412, 'fresh': 680, 'conscious': 336, 'patch': 1165, 'lose': 974, 'make': 994, 'depend': 419, 'nose': 1095, 'confirm': 331, 'forgotten': 661, 'glanc': 715, 'support': 1607, 'toss': 1691, 'conclus': 327, 'special': 1518, 'rag': 1276, 'blue': 179, 'meter': 1021, 'fold': 648, 'tug': 1718, 'bit': 168, 'anticip': 70, 'piti': 1195, 'easili': 507, 'patient': 1167, 'starv': 1551, 'emot': 521, 'endur': 531, 'robust': 1347, 'enviabl': 550, 'stood': 1563, 'blossom': 175, 'monoton': 1044, 'echo': 510, 'awok': 121, 'blous': 176, 'clean': 286, 'situat': 1464, 'prove': 1252, 'everyth': 561, 'open': 1126, 'current': 386, 'said': 1365, 'red': 1298, 'comment': 311, 'unfasten': 1738, 'block': 174, 'clap': 285, 'lack': 914, 'half': 752, 'particular': 1160, 'shone': 1430, 'postur': 1215, 'chose': 277, 'throw': 1665, 'reduc': 1299, 'entomb': 545, 'sought': 1512, 'humil': 818, 'calm': 226, 'pale': 1151, 'lap': 920, 'brief': 202, 'forward': 668, 'mobil': 1039, 'decis': 408, 'view': 1783, 'alert': 42, 'home': 800, 'underwear': 1734, 'grasp': 731, 'admit': 22, 'held': 783, 'lodg': 970, 'serv': 1411, 'sever': 1417, 'attack': 107, 'flutter': 646, 'weak': 1813, 'impati': 837, 'later': 924, 'someon': 1501, 'holder': 797, 'key': 900, 'experienc': 579, 'rearrang': 1290, 'week': 1820, 'complaint': 319, 'prospect': 1247, 'harm': 765, 'close': 296, 'taken': 1629, 'plenti': 1205, 'father': 601, 'dulli': 493, 'damp': 392, 'behind': 155, 'mumbl': 1060, 'staircas': 1543, 'cosi': 363, 'sky': 1469, 'woman': 1860, 'shiver': 1428, 'paper': 1157, 'freedom': 675, 'caution': 246, 'insur': 873, 'financ': 618, 'whatev': 1825, 'busi': 220, 'sight': 1450, 'shake': 1420, 'salesmen': 1370, 'directli': 440, 'anyway': 76, 'concentr': 325, 'found': 669, 'conservatori': 337, 'burdensom': 217, 'whatsoev': 1826, 'protrus': 1250, 'innoc': 865, 'pocket': 1206, 'sough': 1511, 'notch': 1097, 'pant': 1155, 'food': 651, 'hinder': 793, 'french': 677, 'greatest': 734, 'meanwhil': 1008, 'arch': 88, 'eventu': 557, 'workshi': 1866, 'brown': 210, 'pleasur': 1204, 'lay': 927, 'front': 686, 'martyr': 1000, 'ourselv': 1137, 'touch': 1693, 'report': 1323, 'motionless': 1051, 'absolut': 5, 'maid': 991, 'copiou': 360, 'rush': 1357, 'cours': 373, 'across': 13, 'pleasant': 1203, 'nightdress': 1087, 'built': 214, 'anywher': 77, 'dull': 492, 'carefre': 234, 'wake': 1799, 'alway': 53, 'spring': 1535, 'suck': 1593, 'influenc': 860, 'round': 1351, 'sixteen': 1466, 'offer': 1117, 'two': 1723, 'overview': 1143, 'hardest': 763, 'marriag': 999, 'led': 938, 'violenc': 1788, 'also': 50, 'hardli': 764, 'assail': 100, 'subdu': 1587, 'chao': 258, 'raisin': 1280, 'mood': 1047}\n"
     ]
    }
   ],
   "source": [
    "print(vect.vocabulary_)"
   ]
  },
  {
   "cell_type": "code",
   "execution_count": 85,
   "metadata": {},
   "outputs": [
    {
     "name": "stdout",
     "output_type": "stream",
     "text": [
      "[ 8.71592614  9.63221687  7.14731022 ...,  9.63221687  8.93906969\n",
      "  9.22675176]\n"
     ]
    }
   ],
   "source": [
    "print(vect.idf_)"
   ]
  },
  {
   "cell_type": "code",
   "execution_count": 86,
   "metadata": {},
   "outputs": [],
   "source": [
    "vect_trans=vect.transform(words_f)"
   ]
  },
  {
   "cell_type": "code",
   "execution_count": 87,
   "metadata": {},
   "outputs": [
    {
     "name": "stdout",
     "output_type": "stream",
     "text": [
      "(11218, 1884)\n"
     ]
    }
   ],
   "source": [
    "print(vect_trans.shape)"
   ]
  },
  {
   "cell_type": "code",
   "execution_count": 92,
   "metadata": {},
   "outputs": [
    {
     "name": "stdout",
     "output_type": "stream",
     "text": [
      "[[ 0.  0.  0. ...,  0.  0.  0.]\n",
      " [ 0.  0.  0. ...,  0.  0.  0.]\n",
      " [ 0.  0.  0. ...,  0.  0.  0.]\n",
      " ..., \n",
      " [ 0.  0.  0. ...,  0.  0.  0.]\n",
      " [ 0.  0.  0. ...,  0.  0.  0.]\n",
      " [ 0.  0.  0. ...,  0.  0.  0.]]\n"
     ]
    }
   ],
   "source": [
    "import numpy as np\n",
    "np.set_printoptions(precision=4)\n",
    "print(vect_trans.toarray())"
   ]
  },
  {
   "cell_type": "markdown",
   "metadata": {},
   "source": [
    "# # Till now we have cleaned,tokenized the data and using the Bag of Words methods we have Vectorized and Transformed the data. Now based on the needs, we can classify the data using the Classification algorithm..\n",
    "\n",
    "### In the next module, i will focus on creating a deep Learning model for NL Classification and Annotation tasks"
   ]
  },
  {
   "cell_type": "code",
   "execution_count": 93,
   "metadata": {},
   "outputs": [
    {
     "name": "stdout",
     "output_type": "stream",
     "text": [
      "Collecting gensim\n",
      "  Downloading https://files.pythonhosted.org/packages/b8/ed/89f9fa9c3a290ebc454249df90891c804c3760cf054d54c5f701f2675122/gensim-3.4.0-cp35-cp35m-manylinux1_x86_64.whl (22.6MB)\n",
      "\u001b[K    100% |████████████████████████████████| 22.6MB 50kB/s  eta 0:00:01\n",
      "\u001b[?25hRequirement already satisfied: scipy>=0.18.1 in /usr/local/src/conda3_runtime.v34/home/envs/DSX-Python35-Spark/lib/python3.5/site-packages (from gensim)\n",
      "Collecting smart-open>=1.2.1 (from gensim)\n",
      "  Downloading https://files.pythonhosted.org/packages/4b/69/c92661a333f733510628f28b8282698b62cdead37291c8491f3271677c02/smart_open-1.5.7.tar.gz\n",
      "Requirement already satisfied: six>=1.5.0 in /usr/local/src/conda3_runtime.v34/home/envs/DSX-Python35-Spark/lib/python3.5/site-packages (from gensim)\n",
      "Requirement already satisfied: numpy>=1.11.3 in /usr/local/src/conda3_runtime.v34/home/envs/DSX-Python35-Spark/lib/python3.5/site-packages (from gensim)\n",
      "Requirement already satisfied: boto>=2.32 in /usr/local/src/conda3_runtime.v34/home/envs/DSX-Python35-Spark/lib/python3.5/site-packages (from smart-open>=1.2.1->gensim)\n",
      "Collecting bz2file (from smart-open>=1.2.1->gensim)\n",
      "  Downloading https://files.pythonhosted.org/packages/61/39/122222b5e85cd41c391b68a99ee296584b2a2d1d233e7ee32b4532384f2d/bz2file-0.98.tar.gz\n",
      "Requirement already satisfied: requests in /usr/local/src/conda3_runtime.v34/home/envs/DSX-Python35-Spark/lib/python3.5/site-packages (from smart-open>=1.2.1->gensim)\n",
      "Requirement already satisfied: boto3 in /usr/local/src/conda3_runtime.v34/home/envs/DSX-Python35-Spark/lib/python3.5/site-packages (from smart-open>=1.2.1->gensim)\n",
      "Requirement already satisfied: chardet<3.1.0,>=3.0.2 in /usr/local/src/conda3_runtime.v34/home/envs/DSX-Python35-Spark/lib/python3.5/site-packages (from requests->smart-open>=1.2.1->gensim)\n",
      "Requirement already satisfied: idna<2.7,>=2.5 in /usr/local/src/conda3_runtime.v34/home/envs/DSX-Python35-Spark/lib/python3.5/site-packages (from requests->smart-open>=1.2.1->gensim)\n",
      "Requirement already satisfied: urllib3<1.23,>=1.21.1 in /usr/local/src/conda3_runtime.v34/home/envs/DSX-Python35-Spark/lib/python3.5/site-packages (from requests->smart-open>=1.2.1->gensim)\n",
      "Requirement already satisfied: certifi>=2017.4.17 in /usr/local/src/conda3_runtime.v34/home/envs/DSX-Python35-Spark/lib/python3.5/site-packages (from requests->smart-open>=1.2.1->gensim)\n",
      "Requirement already satisfied: botocore<1.8.0,>=1.7.0 in /usr/local/src/conda3_runtime.v34/home/envs/DSX-Python35-Spark/lib/python3.5/site-packages (from boto3->smart-open>=1.2.1->gensim)\n",
      "Requirement already satisfied: jmespath<1.0.0,>=0.7.1 in /usr/local/src/conda3_runtime.v34/home/envs/DSX-Python35-Spark/lib/python3.5/site-packages (from boto3->smart-open>=1.2.1->gensim)\n",
      "Requirement already satisfied: s3transfer<0.2.0,>=0.1.10 in /usr/local/src/conda3_runtime.v34/home/envs/DSX-Python35-Spark/lib/python3.5/site-packages (from boto3->smart-open>=1.2.1->gensim)\n",
      "Requirement already satisfied: python-dateutil<3.0.0,>=2.1 in /usr/local/src/conda3_runtime.v34/home/envs/DSX-Python35-Spark/lib/python3.5/site-packages (from botocore<1.8.0,>=1.7.0->boto3->smart-open>=1.2.1->gensim)\n",
      "Requirement already satisfied: docutils>=0.10 in /usr/local/src/conda3_runtime.v34/home/envs/DSX-Python35-Spark/lib/python3.5/site-packages (from botocore<1.8.0,>=1.7.0->boto3->smart-open>=1.2.1->gensim)\n",
      "Building wheels for collected packages: smart-open, bz2file\n",
      "  Running setup.py bdist_wheel for smart-open ... \u001b[?25ldone\n",
      "\u001b[?25h  Stored in directory: /gpfs/fs01/user/s154-d7516c5a56fe0f-a89c647b5a7c/.cache/pip/wheels/b1/9e/7d/bb3d3b55c597e72617140a0638c06382a5f17283881eae163e\n",
      "  Running setup.py bdist_wheel for bz2file ... \u001b[?25ldone\n",
      "\u001b[?25h  Stored in directory: /gpfs/fs01/user/s154-d7516c5a56fe0f-a89c647b5a7c/.cache/pip/wheels/81/75/d6/e1317bf09bf1af5a30befc2a007869fa6e1f516b8f7c591cb9\n",
      "Successfully built smart-open bz2file\n",
      "Installing collected packages: bz2file, smart-open, gensim\n",
      "Successfully installed bz2file-0.98 gensim-3.4.0 smart-open-1.5.7\n"
     ]
    }
   ],
   "source": [
    "!pip install --user gensim"
   ]
  },
  {
   "cell_type": "code",
   "execution_count": 99,
   "metadata": {},
   "outputs": [
    {
     "name": "stdout",
     "output_type": "stream",
     "text": [
      "Word2Vec(vocab=14, size=100, alpha=0.025)\n",
      "['this', 'another', 'second', 'for', 'more', 'first', 'yet', 'is', 'final', 'word2vec', 'sentence', 'one', 'and', 'the']\n",
      "[ -3.4967e-04   4.7365e-03   1.1703e-03  -3.7881e-03   7.8036e-04\n",
      "  -4.4615e-03  -2.9026e-03   3.6212e-03  -3.4926e-03   3.2806e-03\n",
      "   4.2509e-03   2.5529e-03   3.2667e-03  -4.6929e-03   4.8271e-04\n",
      "   1.6393e-03   4.6236e-04  -3.1288e-03   2.5886e-03   1.7265e-03\n",
      "  -2.5927e-03   1.4009e-03  -2.0974e-03  -3.8607e-03  -2.9622e-03\n",
      "   2.8404e-03   8.0000e-05   2.1809e-03   3.0404e-03  -4.0163e-04\n",
      "  -9.7755e-04  -3.6713e-03   3.0117e-03   3.4432e-03  -4.8704e-03\n",
      "   4.6092e-03   1.2043e-04   3.6620e-03   2.6559e-03   3.9095e-03\n",
      "   3.6383e-03   4.2095e-03  -3.9851e-03  -3.0826e-03  -1.7189e-03\n",
      "  -1.2786e-03   2.0949e-03  -4.2309e-03  -8.8210e-04   3.8200e-03\n",
      "   1.6632e-03   4.8789e-03  -4.5202e-03  -1.7876e-03   1.8940e-03\n",
      "   4.7757e-03   3.5649e-03   2.3990e-03  -3.5956e-03  -3.8743e-03\n",
      "  -1.4436e-03   1.0301e-03   1.3316e-03   1.3160e-03   4.0192e-03\n",
      "   2.9326e-03  -3.6577e-03  -9.5184e-04  -6.5727e-04  -5.0256e-04\n",
      "   4.8713e-03   1.4568e-03  -5.0857e-05  -3.3416e-03  -6.4789e-04\n",
      "   2.5030e-03   6.2530e-04  -4.6028e-03  -2.2865e-03   8.0078e-04\n",
      "   1.2471e-03   3.1106e-04   1.1762e-03  -4.3472e-03   2.3223e-03\n",
      "   1.8207e-03   3.7539e-03   3.9624e-03   4.4069e-03   8.9792e-04\n",
      "   2.4390e-03   2.8335e-03   4.9145e-03   1.7644e-03  -4.4294e-03\n",
      "  -8.5322e-04   3.8635e-03  -4.7953e-03  -5.1150e-04   4.6472e-03]\n"
     ]
    },
    {
     "name": "stderr",
     "output_type": "stream",
     "text": [
      "/usr/local/src/conda3_runtime/home/envs/DSX-Python35-Spark/lib/python3.5/site-packages/ipykernel/__main__.py:23: DeprecationWarning: Call to deprecated `__getitem__` (Method will be removed in 4.0.0, use self.wv.__getitem__() instead).\n"
     ]
    }
   ],
   "source": [
    "from gensim.models import Word2Vec\n",
    "\n",
    "# we will now define training data\n",
    "\n",
    "sents = [['this', 'is', 'the', 'first', 'sentence', 'for', 'word2vec'],\n",
    "['this', 'is', 'the', 'second', 'sentence'],\n",
    "['yet', 'another', 'sentence'],\n",
    "['one', 'more', 'sentence'],\n",
    "['and', 'the', 'final', 'sentence']]\n",
    "\n",
    "# training the model\n",
    "\n",
    "model = Word2Vec(sents,min_count=1)\n",
    "\n",
    "# Summarize the loaded model\n",
    "\n",
    "print(model)\n",
    "\n",
    "words = list(model.wv.vocab)\n",
    "\n",
    "print(words)\n",
    "\n",
    "print(model['sentence'])"
   ]
  },
  {
   "cell_type": "code",
   "execution_count": 102,
   "metadata": {},
   "outputs": [
    {
     "name": "stderr",
     "output_type": "stream",
     "text": [
      "/usr/local/src/conda3_runtime/home/envs/DSX-Python35-Spark/lib/python3.5/site-packages/ipykernel/__main__.py:13: DeprecationWarning: Call to deprecated `__getitem__` (Method will be removed in 4.0.0, use self.wv.__getitem__() instead).\n"
     ]
    },
    {
     "data": {
      "image/png": "[encoded data removed]",
      "text/plain": [
       "<matplotlib.figure.Figure at 0x7efe45d642b0>"
      ]
     },
     "metadata": {},
     "output_type": "display_data"
    },
    {
     "data": {
      "image/png": "[encoded data removed]",
      "text/plain": [
       "<matplotlib.figure.Figure at 0x7efe340395c0>"
      ]
     },
     "metadata": {},
     "output_type": "display_data"
    },
    {
     "data": {
      "image/png": "[encoded data removed]",
      "text/plain": [
       "<matplotlib.figure.Figure at 0x7efe1c1d3400>"
      ]
     },
     "metadata": {},
     "output_type": "display_data"
    },
    {
     "data": {
      "image/png": "[encoded data removed]",
      "text/plain": [
       "<matplotlib.figure.Figure at 0x7efe340394e0>"
      ]
     },
     "metadata": {},
     "output_type": "display_data"
    },
    {
     "data": {
      "image/png": "[encoded data removed]",
      "text/plain": [
       "<matplotlib.figure.Figure at 0x7efe1c189ef0>"
      ]
     },
     "metadata": {},
     "output_type": "display_data"
    },
    {
     "data": {
      "image/png": "[encoded data removed]",
      "text/plain": [
       "<matplotlib.figure.Figure at 0x7efe1c1a7668>"
      ]
     },
     "metadata": {},
     "output_type": "display_data"
    },
    {
     "data": {
      "image/png": "[encoded data removed]",
      "text/plain": [
       "<matplotlib.figure.Figure at 0x7efe1c0a7198>"
      ]
     },
     "metadata": {},
     "output_type": "display_data"
    },
    {
     "data": {
      "image/png": "[encoded data removed]",
      "text/plain": [
       "<matplotlib.figure.Figure at 0x7efe1c06b160>"
      ]
     },
     "metadata": {},
     "output_type": "display_data"
    },
    {
     "data": {
      "image/png": "[encoded data removed]",
      "text/plain": [
       "<matplotlib.figure.Figure at 0x7efe1c08e208>"
      ]
     },
     "metadata": {},
     "output_type": "display_data"
    },
    {
     "data": {
      "image/png": "[encoded data removed]",
      "text/plain": [
       "<matplotlib.figure.Figure at 0x7efe1c03b128>"
      ]
     },
     "metadata": {},
     "output_type": "display_data"
    },
    {
     "data": {
      "image/png": "[encoded data removed]",
      "text/plain": [
       "<matplotlib.figure.Figure at 0x7efddffd2518>"
      ]
     },
     "metadata": {},
     "output_type": "display_data"
    },
    {
     "data": {
      "image/png": "[encoded data removed]",
      "text/plain": [
       "<matplotlib.figure.Figure at 0x7efe1c0324e0>"
      ]
     },
     "metadata": {},
     "output_type": "display_data"
    },
    {
     "data": {
      "image/png": "[encoded data removed]",
      "text/plain": [
       "<matplotlib.figure.Figure at 0x7efddffbc630>"
      ]
     },
     "metadata": {},
     "output_type": "display_data"
    },
    {
     "data": {
      "image/png": "[encoded data removed]",
      "text/plain": [
       "<matplotlib.figure.Figure at 0x7efddff735c0>"
      ]
     },
     "metadata": {},
     "output_type": "display_data"
    }
   ],
   "source": [
    "from gensim.models import Word2Vec\n",
    "from sklearn.decomposition import PCA\n",
    "from matplotlib import pyplot\n",
    "# define training data\n",
    "sentences = [['this', 'is', 'the', 'first', 'sentence', 'for', 'word2vec'],\n",
    "['this', 'is', 'the', 'second', 'sentence'],\n",
    "['yet', 'another', 'sentence'],\n",
    "['one', 'more', 'sentence'],\n",
    "['and', 'the', 'final', 'sentence']]\n",
    "# train model\n",
    "model = Word2Vec(sentences, min_count=1)\n",
    "# fit a 2D PCA model to the vectors\n",
    "X = model[model.wv.vocab]\n",
    "pca = PCA(n_components=2)\n",
    "result = pca.fit_transform(X)\n",
    "# create a scatter plot of the projection\n",
    "pyplot.scatter(result[:, 0], result[:, 1])\n",
    "words = list(model.wv.vocab)\n",
    "for i, word in enumerate(words):\n",
    "  pyplot.annotate(word, xy=(result[i, 0], result[i, 1]))\n",
    "  pyplot.show()\n"
   ]
  }
 ],
 "metadata": {
  "kernelspec": {
   "display_name": "Python 3.5 with Spark 2.1",
   "language": "python",
   "name": "python3-spark21"
  },
  "language_info": {
   "codemirror_mode": {
    "name": "ipython",
    "version": 3
   },
   "file_extension": ".py",
   "mimetype": "text/x-python",
   "name": "python",
   "nbconvert_exporter": "python",
   "pygments_lexer": "ipython3",
   "version": "3.5.4"
  }
 },
 "nbformat": 4,
 "nbformat_minor": 1
}
